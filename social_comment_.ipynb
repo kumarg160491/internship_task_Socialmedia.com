{
  "nbformat": 4,
  "nbformat_minor": 0,
  "metadata": {
    "kernelspec": {
      "display_name": "Python 3",
      "language": "python",
      "name": "python3"
    },
    "language_info": {
      "codemirror_mode": {
        "name": "ipython",
        "version": 3
      },
      "file_extension": ".py",
      "mimetype": "text/x-python",
      "name": "python",
      "nbconvert_exporter": "python",
      "pygments_lexer": "ipython3",
      "version": "3.8.2"
    },
    "colab": {
      "name": "social comment .ipynb",
      "provenance": [],
      "collapsed_sections": [],
      "include_colab_link": true
    },
    "accelerator": "GPU",
    "widgets": {
      "application/vnd.jupyter.widget-state+json": {
        "0b8bb7d40378466a8dbbb777ae137816": {
          "model_module": "@jupyter-widgets/controls",
          "model_name": "HBoxModel",
          "state": {
            "_view_name": "HBoxView",
            "_dom_classes": [],
            "_model_name": "HBoxModel",
            "_view_module": "@jupyter-widgets/controls",
            "_model_module_version": "1.5.0",
            "_view_count": null,
            "_view_module_version": "1.5.0",
            "box_style": "",
            "layout": "IPY_MODEL_1ba5f706743641ee9fa0b8f9eb08fbe4",
            "_model_module": "@jupyter-widgets/controls",
            "children": [
              "IPY_MODEL_c814e9decfe249c995abede3aa7dd840",
              "IPY_MODEL_6216bd943cdf4c6e9048652505b7154c"
            ]
          }
        },
        "1ba5f706743641ee9fa0b8f9eb08fbe4": {
          "model_module": "@jupyter-widgets/base",
          "model_name": "LayoutModel",
          "state": {
            "_view_name": "LayoutView",
            "grid_template_rows": null,
            "right": null,
            "justify_content": null,
            "_view_module": "@jupyter-widgets/base",
            "overflow": null,
            "_model_module_version": "1.2.0",
            "_view_count": null,
            "flex_flow": null,
            "width": null,
            "min_width": null,
            "border": null,
            "align_items": null,
            "bottom": null,
            "_model_module": "@jupyter-widgets/base",
            "top": null,
            "grid_column": null,
            "overflow_y": null,
            "overflow_x": null,
            "grid_auto_flow": null,
            "grid_area": null,
            "grid_template_columns": null,
            "flex": null,
            "_model_name": "LayoutModel",
            "justify_items": null,
            "grid_row": null,
            "max_height": null,
            "align_content": null,
            "visibility": null,
            "align_self": null,
            "height": null,
            "min_height": null,
            "padding": null,
            "grid_auto_rows": null,
            "grid_gap": null,
            "max_width": null,
            "order": null,
            "_view_module_version": "1.2.0",
            "grid_template_areas": null,
            "object_position": null,
            "object_fit": null,
            "grid_auto_columns": null,
            "margin": null,
            "display": null,
            "left": null
          }
        },
        "c814e9decfe249c995abede3aa7dd840": {
          "model_module": "@jupyter-widgets/controls",
          "model_name": "FloatProgressModel",
          "state": {
            "_view_name": "ProgressView",
            "style": "IPY_MODEL_7b8d824c048e411695b74f40539fe8e3",
            "_dom_classes": [],
            "description": "100%",
            "_model_name": "FloatProgressModel",
            "bar_style": "success",
            "max": 50,
            "_view_module": "@jupyter-widgets/controls",
            "_model_module_version": "1.5.0",
            "value": 50,
            "_view_count": null,
            "_view_module_version": "1.5.0",
            "orientation": "horizontal",
            "min": 0,
            "description_tooltip": null,
            "_model_module": "@jupyter-widgets/controls",
            "layout": "IPY_MODEL_57aabe6ea95a4140a00a88af4077a36e"
          }
        },
        "6216bd943cdf4c6e9048652505b7154c": {
          "model_module": "@jupyter-widgets/controls",
          "model_name": "HTMLModel",
          "state": {
            "_view_name": "HTMLView",
            "style": "IPY_MODEL_6686516d87874948b9e6ca38658c12b6",
            "_dom_classes": [],
            "description": "",
            "_model_name": "HTMLModel",
            "placeholder": "​",
            "_view_module": "@jupyter-widgets/controls",
            "_model_module_version": "1.5.0",
            "value": " 50/50 [00:00&lt;00:00, 259.00it/s]",
            "_view_count": null,
            "_view_module_version": "1.5.0",
            "description_tooltip": null,
            "_model_module": "@jupyter-widgets/controls",
            "layout": "IPY_MODEL_1878319d2259476ba979a3152514ec94"
          }
        },
        "7b8d824c048e411695b74f40539fe8e3": {
          "model_module": "@jupyter-widgets/controls",
          "model_name": "ProgressStyleModel",
          "state": {
            "_view_name": "StyleView",
            "_model_name": "ProgressStyleModel",
            "description_width": "initial",
            "_view_module": "@jupyter-widgets/base",
            "_model_module_version": "1.5.0",
            "_view_count": null,
            "_view_module_version": "1.2.0",
            "bar_color": null,
            "_model_module": "@jupyter-widgets/controls"
          }
        },
        "57aabe6ea95a4140a00a88af4077a36e": {
          "model_module": "@jupyter-widgets/base",
          "model_name": "LayoutModel",
          "state": {
            "_view_name": "LayoutView",
            "grid_template_rows": null,
            "right": null,
            "justify_content": null,
            "_view_module": "@jupyter-widgets/base",
            "overflow": null,
            "_model_module_version": "1.2.0",
            "_view_count": null,
            "flex_flow": null,
            "width": null,
            "min_width": null,
            "border": null,
            "align_items": null,
            "bottom": null,
            "_model_module": "@jupyter-widgets/base",
            "top": null,
            "grid_column": null,
            "overflow_y": null,
            "overflow_x": null,
            "grid_auto_flow": null,
            "grid_area": null,
            "grid_template_columns": null,
            "flex": null,
            "_model_name": "LayoutModel",
            "justify_items": null,
            "grid_row": null,
            "max_height": null,
            "align_content": null,
            "visibility": null,
            "align_self": null,
            "height": null,
            "min_height": null,
            "padding": null,
            "grid_auto_rows": null,
            "grid_gap": null,
            "max_width": null,
            "order": null,
            "_view_module_version": "1.2.0",
            "grid_template_areas": null,
            "object_position": null,
            "object_fit": null,
            "grid_auto_columns": null,
            "margin": null,
            "display": null,
            "left": null
          }
        },
        "6686516d87874948b9e6ca38658c12b6": {
          "model_module": "@jupyter-widgets/controls",
          "model_name": "DescriptionStyleModel",
          "state": {
            "_view_name": "StyleView",
            "_model_name": "DescriptionStyleModel",
            "description_width": "",
            "_view_module": "@jupyter-widgets/base",
            "_model_module_version": "1.5.0",
            "_view_count": null,
            "_view_module_version": "1.2.0",
            "_model_module": "@jupyter-widgets/controls"
          }
        },
        "1878319d2259476ba979a3152514ec94": {
          "model_module": "@jupyter-widgets/base",
          "model_name": "LayoutModel",
          "state": {
            "_view_name": "LayoutView",
            "grid_template_rows": null,
            "right": null,
            "justify_content": null,
            "_view_module": "@jupyter-widgets/base",
            "overflow": null,
            "_model_module_version": "1.2.0",
            "_view_count": null,
            "flex_flow": null,
            "width": null,
            "min_width": null,
            "border": null,
            "align_items": null,
            "bottom": null,
            "_model_module": "@jupyter-widgets/base",
            "top": null,
            "grid_column": null,
            "overflow_y": null,
            "overflow_x": null,
            "grid_auto_flow": null,
            "grid_area": null,
            "grid_template_columns": null,
            "flex": null,
            "_model_name": "LayoutModel",
            "justify_items": null,
            "grid_row": null,
            "max_height": null,
            "align_content": null,
            "visibility": null,
            "align_self": null,
            "height": null,
            "min_height": null,
            "padding": null,
            "grid_auto_rows": null,
            "grid_gap": null,
            "max_width": null,
            "order": null,
            "_view_module_version": "1.2.0",
            "grid_template_areas": null,
            "object_position": null,
            "object_fit": null,
            "grid_auto_columns": null,
            "margin": null,
            "display": null,
            "left": null
          }
        }
      }
    }
  },
  "cells": [
    {
      "cell_type": "markdown",
      "metadata": {
        "id": "view-in-github",
        "colab_type": "text"
      },
      "source": [
        "<a href=\"https://colab.research.google.com/github/kumarg160491/internship_task_Socialmedia.com/blob/master/social_comment_.ipynb\" target=\"_parent\"><img src=\"https://colab.research.google.com/assets/colab-badge.svg\" alt=\"Open In Colab\"/></a>"
      ]
    },
    {
      "cell_type": "code",
      "metadata": {
        "id": "KMLC1UYiKTV4",
        "colab_type": "code",
        "colab": {
          "base_uri": "https://localhost:8080/",
          "height": 122
        },
        "outputId": "40350a0b-323b-4142-deb2-e978373b3076"
      },
      "source": [
        "from google.colab import drive\n",
        "drive.mount('/content/drive')"
      ],
      "execution_count": 1,
      "outputs": [
        {
          "output_type": "stream",
          "text": [
            "Go to this URL in a browser: https://accounts.google.com/o/oauth2/auth?client_id=947318989803-6bn6qk8qdgf4n4g3pfee6491hc0brc4i.apps.googleusercontent.com&redirect_uri=urn%3aietf%3awg%3aoauth%3a2.0%3aoob&response_type=code&scope=email%20https%3a%2f%2fwww.googleapis.com%2fauth%2fdocs.test%20https%3a%2f%2fwww.googleapis.com%2fauth%2fdrive%20https%3a%2f%2fwww.googleapis.com%2fauth%2fdrive.photos.readonly%20https%3a%2f%2fwww.googleapis.com%2fauth%2fpeopleapi.readonly\n",
            "\n",
            "Enter your authorization code:\n",
            "··········\n",
            "Mounted at /content/drive\n"
          ],
          "name": "stdout"
        }
      ]
    },
    {
      "cell_type": "markdown",
      "metadata": {
        "id": "EU7JbUqqKN0s",
        "colab_type": "text"
      },
      "source": [
        "Task as Follows:\n",
        "\n",
        "You have to build a Recommendation System, recommending the items based on the following.\n",
        "1. Content Based Filtering\n",
        "2. Collaborative Filtering\n",
        "\n",
        "\n",
        "End result should be a system that.\n",
        "\n",
        "1. Recommend posts for the given user\n",
        "2. Recommend similar posts for the given post"
      ]
    },
    {
      "cell_type": "markdown",
      "metadata": {
        "id": "hxjlCsE7QWz9",
        "colab_type": "text"
      },
      "source": [
        "**Imporing required libraries**"
      ]
    },
    {
      "cell_type": "code",
      "metadata": {
        "id": "k4UwXLr2KN0u",
        "colab_type": "code",
        "colab": {
          "base_uri": "https://localhost:8080/",
          "height": 292
        },
        "outputId": "691f6dc4-f5fe-44b3-a5de-aaf3fbe38da1"
      },
      "source": [
        "import pandas as pd\n",
        "import numpy as np\n",
        "import matplotlib.pyplot as plt\n",
        "import seaborn as sns\n",
        "\n",
        "import scipy.sparse as sparse\n",
        "!pip install implicit\n",
        "import random\n",
        "import implicit\n",
        "from sklearn.preprocessing import MinMaxScaler"
      ],
      "execution_count": 2,
      "outputs": [
        {
          "output_type": "stream",
          "text": [
            "/usr/local/lib/python3.6/dist-packages/statsmodels/tools/_testing.py:19: FutureWarning: pandas.util.testing is deprecated. Use the functions in the public API at pandas.testing instead.\n",
            "  import pandas.util.testing as tm\n"
          ],
          "name": "stderr"
        },
        {
          "output_type": "stream",
          "text": [
            "Collecting implicit\n",
            "\u001b[?25l  Downloading https://files.pythonhosted.org/packages/5a/d8/6b4f1374ffa2647b72ac76960c71b984c6f3238090359fb419d03827d87a/implicit-0.4.2.tar.gz (1.1MB)\n",
            "\u001b[K     |████████████████████████████████| 1.1MB 1.0MB/s \n",
            "\u001b[?25hRequirement already satisfied: numpy in /usr/local/lib/python3.6/dist-packages (from implicit) (1.18.4)\n",
            "Requirement already satisfied: scipy>=0.16 in /usr/local/lib/python3.6/dist-packages (from implicit) (1.4.1)\n",
            "Requirement already satisfied: tqdm>=4.27 in /usr/local/lib/python3.6/dist-packages (from implicit) (4.41.1)\n",
            "Building wheels for collected packages: implicit\n",
            "  Building wheel for implicit (setup.py) ... \u001b[?25l\u001b[?25hdone\n",
            "  Created wheel for implicit: filename=implicit-0.4.2-cp36-cp36m-linux_x86_64.whl size=3420306 sha256=f4a96858fefcb0d06decc1f745ac309293651987b6e971ed45624e31a9f0f90a\n",
            "  Stored in directory: /root/.cache/pip/wheels/1b/48/b1/1aebe3acc3afb5589e72d3e7c3ffc3f637dc4721c1a974dff7\n",
            "Successfully built implicit\n",
            "Installing collected packages: implicit\n",
            "Successfully installed implicit-0.4.2\n"
          ],
          "name": "stdout"
        }
      ]
    },
    {
      "cell_type": "markdown",
      "metadata": {
        "id": "FOFrb1iZQqId",
        "colab_type": "text"
      },
      "source": [
        "**Reading Data**"
      ]
    },
    {
      "cell_type": "code",
      "metadata": {
        "id": "AsXCAfHGKN03",
        "colab_type": "code",
        "colab": {}
      },
      "source": [
        "posts=pd.read_csv('/content/drive/My Drive/Practice/social_media/posts.csv')\n",
        "users=pd.read_csv('/content/drive/My Drive/Practice/social_media/users.csv')\n",
        "views=pd.read_csv('/content/drive/My Drive/Practice/social_media/views.csv')"
      ],
      "execution_count": 0,
      "outputs": []
    },
    {
      "cell_type": "code",
      "metadata": {
        "id": "nKCRCFBaKN0_",
        "colab_type": "code",
        "colab": {}
      },
      "source": [
        "posts.rename(columns={'_id':'post_id', 'title':'title', 'category':'category', ' post_type':'post_type'},\n",
        "            inplace=True)"
      ],
      "execution_count": 0,
      "outputs": []
    },
    {
      "cell_type": "code",
      "metadata": {
        "id": "A6qsHoQKKN1G",
        "colab_type": "code",
        "colab": {
          "base_uri": "https://localhost:8080/",
          "height": 204
        },
        "outputId": "ef384ba1-d31b-430c-97c5-3ac8eeb3cd6c"
      },
      "source": [
        "posts.head()"
      ],
      "execution_count": 5,
      "outputs": [
        {
          "output_type": "execute_result",
          "data": {
            "text/html": [
              "<div>\n",
              "<style scoped>\n",
              "    .dataframe tbody tr th:only-of-type {\n",
              "        vertical-align: middle;\n",
              "    }\n",
              "\n",
              "    .dataframe tbody tr th {\n",
              "        vertical-align: top;\n",
              "    }\n",
              "\n",
              "    .dataframe thead th {\n",
              "        text-align: right;\n",
              "    }\n",
              "</style>\n",
              "<table border=\"1\" class=\"dataframe\">\n",
              "  <thead>\n",
              "    <tr style=\"text-align: right;\">\n",
              "      <th></th>\n",
              "      <th>post_id</th>\n",
              "      <th>title</th>\n",
              "      <th>category</th>\n",
              "      <th>post_type</th>\n",
              "    </tr>\n",
              "  </thead>\n",
              "  <tbody>\n",
              "    <tr>\n",
              "      <th>0</th>\n",
              "      <td>5d62abaa65218653a132c956</td>\n",
              "      <td>hello there</td>\n",
              "      <td>Plant Biotechnology</td>\n",
              "      <td>blog</td>\n",
              "    </tr>\n",
              "    <tr>\n",
              "      <th>1</th>\n",
              "      <td>5d6d39567fa40e1417a4931c</td>\n",
              "      <td>Ml and AI</td>\n",
              "      <td>Artificial Intelligence|Machine Learning|Infor...</td>\n",
              "      <td>blog</td>\n",
              "    </tr>\n",
              "    <tr>\n",
              "      <th>2</th>\n",
              "      <td>5d7d23315720533e15c3b1ee</td>\n",
              "      <td>What is an Operating System ?</td>\n",
              "      <td>Operating Systems</td>\n",
              "      <td>blog</td>\n",
              "    </tr>\n",
              "    <tr>\n",
              "      <th>3</th>\n",
              "      <td>5d7d405e5720533e15c3b1f3</td>\n",
              "      <td>Lord Shiva</td>\n",
              "      <td>Drawings</td>\n",
              "      <td>artwork</td>\n",
              "    </tr>\n",
              "    <tr>\n",
              "      <th>4</th>\n",
              "      <td>5d80dfbc6c53455f896e600e</td>\n",
              "      <td>How Competition law evolved?</td>\n",
              "      <td>Competition Laws</td>\n",
              "      <td>blog</td>\n",
              "    </tr>\n",
              "  </tbody>\n",
              "</table>\n",
              "</div>"
            ],
            "text/plain": [
              "                    post_id  ... post_type\n",
              "0  5d62abaa65218653a132c956  ...      blog\n",
              "1  5d6d39567fa40e1417a4931c  ...      blog\n",
              "2  5d7d23315720533e15c3b1ee  ...      blog\n",
              "3  5d7d405e5720533e15c3b1f3  ...   artwork\n",
              "4  5d80dfbc6c53455f896e600e  ...      blog\n",
              "\n",
              "[5 rows x 4 columns]"
            ]
          },
          "metadata": {
            "tags": []
          },
          "execution_count": 5
        }
      ]
    },
    {
      "cell_type": "code",
      "metadata": {
        "id": "I4wbiPNUKN1O",
        "colab_type": "code",
        "colab": {
          "base_uri": "https://localhost:8080/",
          "height": 204
        },
        "outputId": "2192373f-8143-4425-d001-d051095428d1"
      },
      "source": [
        "users.rename(columns={'_id':'user_id'},inplace=True)\n",
        "users.head()"
      ],
      "execution_count": 6,
      "outputs": [
        {
          "output_type": "execute_result",
          "data": {
            "text/html": [
              "<div>\n",
              "<style scoped>\n",
              "    .dataframe tbody tr th:only-of-type {\n",
              "        vertical-align: middle;\n",
              "    }\n",
              "\n",
              "    .dataframe tbody tr th {\n",
              "        vertical-align: top;\n",
              "    }\n",
              "\n",
              "    .dataframe thead th {\n",
              "        text-align: right;\n",
              "    }\n",
              "</style>\n",
              "<table border=\"1\" class=\"dataframe\">\n",
              "  <thead>\n",
              "    <tr style=\"text-align: right;\">\n",
              "      <th></th>\n",
              "      <th>user_id</th>\n",
              "      <th>name</th>\n",
              "      <th>gender</th>\n",
              "      <th>academics</th>\n",
              "    </tr>\n",
              "  </thead>\n",
              "  <tbody>\n",
              "    <tr>\n",
              "      <th>0</th>\n",
              "      <td>5d60098a653a331687083238</td>\n",
              "      <td>Nivesh Singh Chauhan</td>\n",
              "      <td>male</td>\n",
              "      <td>undergraduate</td>\n",
              "    </tr>\n",
              "    <tr>\n",
              "      <th>1</th>\n",
              "      <td>5d610ae1653a331687083239</td>\n",
              "      <td>Gaurav Sharma</td>\n",
              "      <td>male</td>\n",
              "      <td>graduate</td>\n",
              "    </tr>\n",
              "    <tr>\n",
              "      <th>2</th>\n",
              "      <td>5d618359fc5fcf3bdd9a0910</td>\n",
              "      <td>Akshay Mishra</td>\n",
              "      <td>male</td>\n",
              "      <td>undergraduate</td>\n",
              "    </tr>\n",
              "    <tr>\n",
              "      <th>3</th>\n",
              "      <td>5d6d2bb87fa40e1417a49315</td>\n",
              "      <td>Saksham Mathur</td>\n",
              "      <td>male</td>\n",
              "      <td>undergraduate</td>\n",
              "    </tr>\n",
              "    <tr>\n",
              "      <th>4</th>\n",
              "      <td>5d7c994d5720533e15c3b1e9</td>\n",
              "      <td>Varun Chowhan</td>\n",
              "      <td>male</td>\n",
              "      <td>undergraduate</td>\n",
              "    </tr>\n",
              "  </tbody>\n",
              "</table>\n",
              "</div>"
            ],
            "text/plain": [
              "                    user_id                  name gender      academics\n",
              "0  5d60098a653a331687083238  Nivesh Singh Chauhan   male  undergraduate\n",
              "1  5d610ae1653a331687083239         Gaurav Sharma   male       graduate\n",
              "2  5d618359fc5fcf3bdd9a0910         Akshay Mishra   male  undergraduate\n",
              "3  5d6d2bb87fa40e1417a49315        Saksham Mathur   male  undergraduate\n",
              "4  5d7c994d5720533e15c3b1e9         Varun Chowhan   male  undergraduate"
            ]
          },
          "metadata": {
            "tags": []
          },
          "execution_count": 6
        }
      ]
    },
    {
      "cell_type": "code",
      "metadata": {
        "id": "E-pM_3YIKN1X",
        "colab_type": "code",
        "colab": {
          "base_uri": "https://localhost:8080/",
          "height": 204
        },
        "outputId": "5f53765c-b798-46b6-ba47-2a82de528ad0"
      },
      "source": [
        "views.head()"
      ],
      "execution_count": 7,
      "outputs": [
        {
          "output_type": "execute_result",
          "data": {
            "text/html": [
              "<div>\n",
              "<style scoped>\n",
              "    .dataframe tbody tr th:only-of-type {\n",
              "        vertical-align: middle;\n",
              "    }\n",
              "\n",
              "    .dataframe tbody tr th {\n",
              "        vertical-align: top;\n",
              "    }\n",
              "\n",
              "    .dataframe thead th {\n",
              "        text-align: right;\n",
              "    }\n",
              "</style>\n",
              "<table border=\"1\" class=\"dataframe\">\n",
              "  <thead>\n",
              "    <tr style=\"text-align: right;\">\n",
              "      <th></th>\n",
              "      <th>user_id</th>\n",
              "      <th>post_id</th>\n",
              "      <th>timestamp</th>\n",
              "    </tr>\n",
              "  </thead>\n",
              "  <tbody>\n",
              "    <tr>\n",
              "      <th>0</th>\n",
              "      <td>5df49b32cc709107827fb3c7</td>\n",
              "      <td>5ec821ddec493f4a2655889e</td>\n",
              "      <td>2020-06-01T10:46:45.131Z</td>\n",
              "    </tr>\n",
              "    <tr>\n",
              "      <th>1</th>\n",
              "      <td>5ed3748576027d35905ccaab</td>\n",
              "      <td>5ed4cbadbd514d602c1531a6</td>\n",
              "      <td>2020-06-01T09:39:20.021Z</td>\n",
              "    </tr>\n",
              "    <tr>\n",
              "      <th>2</th>\n",
              "      <td>5ed0defa76027d35905cc2de</td>\n",
              "      <td>5eac305f10426255a7aa9dd3</td>\n",
              "      <td>2020-06-01T08:12:42.682Z</td>\n",
              "    </tr>\n",
              "    <tr>\n",
              "      <th>3</th>\n",
              "      <td>5ed0defa76027d35905cc2de</td>\n",
              "      <td>5ed1ff0276027d35905cc60d</td>\n",
              "      <td>2020-06-01T08:10:23.880Z</td>\n",
              "    </tr>\n",
              "    <tr>\n",
              "      <th>4</th>\n",
              "      <td>5ed0defa76027d35905cc2de</td>\n",
              "      <td>5ed3820f76027d35905ccac8</td>\n",
              "      <td>2020-06-01T08:08:54.124Z</td>\n",
              "    </tr>\n",
              "  </tbody>\n",
              "</table>\n",
              "</div>"
            ],
            "text/plain": [
              "                    user_id                   post_id                 timestamp\n",
              "0  5df49b32cc709107827fb3c7  5ec821ddec493f4a2655889e  2020-06-01T10:46:45.131Z\n",
              "1  5ed3748576027d35905ccaab  5ed4cbadbd514d602c1531a6  2020-06-01T09:39:20.021Z\n",
              "2  5ed0defa76027d35905cc2de  5eac305f10426255a7aa9dd3  2020-06-01T08:12:42.682Z\n",
              "3  5ed0defa76027d35905cc2de  5ed1ff0276027d35905cc60d  2020-06-01T08:10:23.880Z\n",
              "4  5ed0defa76027d35905cc2de  5ed3820f76027d35905ccac8  2020-06-01T08:08:54.124Z"
            ]
          },
          "metadata": {
            "tags": []
          },
          "execution_count": 7
        }
      ]
    },
    {
      "cell_type": "code",
      "metadata": {
        "id": "ThCkZuLBKN1e",
        "colab_type": "code",
        "colab": {
          "base_uri": "https://localhost:8080/",
          "height": 510
        },
        "outputId": "c094db62-6160-4746-81a7-b44ce9ae92ec"
      },
      "source": [
        "print(\"\\n Posts Data :\")\n",
        "print(\"shape : \", posts.shape)\n",
        "print(posts.head())\n",
        "\n",
        "print(\"\\n Users Data :\")\n",
        "print(\"shape : \", users.shape)\n",
        "print(users.head())\n",
        "\n",
        "print(\"\\n Views Data :\")\n",
        "print(\"shape : \", views.shape)\n",
        "print(views.head())"
      ],
      "execution_count": 8,
      "outputs": [
        {
          "output_type": "stream",
          "text": [
            "\n",
            " Posts Data :\n",
            "shape :  (493, 4)\n",
            "                    post_id  ... post_type\n",
            "0  5d62abaa65218653a132c956  ...      blog\n",
            "1  5d6d39567fa40e1417a4931c  ...      blog\n",
            "2  5d7d23315720533e15c3b1ee  ...      blog\n",
            "3  5d7d405e5720533e15c3b1f3  ...   artwork\n",
            "4  5d80dfbc6c53455f896e600e  ...      blog\n",
            "\n",
            "[5 rows x 4 columns]\n",
            "\n",
            " Users Data :\n",
            "shape :  (118, 4)\n",
            "                    user_id                  name gender      academics\n",
            "0  5d60098a653a331687083238  Nivesh Singh Chauhan   male  undergraduate\n",
            "1  5d610ae1653a331687083239         Gaurav Sharma   male       graduate\n",
            "2  5d618359fc5fcf3bdd9a0910         Akshay Mishra   male  undergraduate\n",
            "3  5d6d2bb87fa40e1417a49315        Saksham Mathur   male  undergraduate\n",
            "4  5d7c994d5720533e15c3b1e9         Varun Chowhan   male  undergraduate\n",
            "\n",
            " Views Data :\n",
            "shape :  (1449, 3)\n",
            "                    user_id                   post_id                 timestamp\n",
            "0  5df49b32cc709107827fb3c7  5ec821ddec493f4a2655889e  2020-06-01T10:46:45.131Z\n",
            "1  5ed3748576027d35905ccaab  5ed4cbadbd514d602c1531a6  2020-06-01T09:39:20.021Z\n",
            "2  5ed0defa76027d35905cc2de  5eac305f10426255a7aa9dd3  2020-06-01T08:12:42.682Z\n",
            "3  5ed0defa76027d35905cc2de  5ed1ff0276027d35905cc60d  2020-06-01T08:10:23.880Z\n",
            "4  5ed0defa76027d35905cc2de  5ed3820f76027d35905ccac8  2020-06-01T08:08:54.124Z\n"
          ],
          "name": "stdout"
        }
      ]
    },
    {
      "cell_type": "markdown",
      "metadata": {
        "id": "N75QfgaRQ6m_",
        "colab_type": "text"
      },
      "source": [
        "**We found that we have 493 posts from 118 users and had 1449 views**"
      ]
    },
    {
      "cell_type": "code",
      "metadata": {
        "id": "WFWweqzlKN1t",
        "colab_type": "code",
        "colab": {}
      },
      "source": [
        "combine=pd.merge(left=views,right=posts,how='inner',on='post_id')\n",
        "combine=pd.merge(left=combine,right=users,how='inner',on='user_id')"
      ],
      "execution_count": 0,
      "outputs": []
    },
    {
      "cell_type": "code",
      "metadata": {
        "id": "XsvqPJjfKN1z",
        "colab_type": "code",
        "colab": {
          "base_uri": "https://localhost:8080/",
          "height": 306
        },
        "outputId": "fc3b6612-efe4-4b90-cc74-9fbb0aa483d0"
      },
      "source": [
        "combine.head()"
      ],
      "execution_count": 10,
      "outputs": [
        {
          "output_type": "execute_result",
          "data": {
            "text/html": [
              "<div>\n",
              "<style scoped>\n",
              "    .dataframe tbody tr th:only-of-type {\n",
              "        vertical-align: middle;\n",
              "    }\n",
              "\n",
              "    .dataframe tbody tr th {\n",
              "        vertical-align: top;\n",
              "    }\n",
              "\n",
              "    .dataframe thead th {\n",
              "        text-align: right;\n",
              "    }\n",
              "</style>\n",
              "<table border=\"1\" class=\"dataframe\">\n",
              "  <thead>\n",
              "    <tr style=\"text-align: right;\">\n",
              "      <th></th>\n",
              "      <th>user_id</th>\n",
              "      <th>post_id</th>\n",
              "      <th>timestamp</th>\n",
              "      <th>title</th>\n",
              "      <th>category</th>\n",
              "      <th>post_type</th>\n",
              "      <th>name</th>\n",
              "      <th>gender</th>\n",
              "      <th>academics</th>\n",
              "    </tr>\n",
              "  </thead>\n",
              "  <tbody>\n",
              "    <tr>\n",
              "      <th>0</th>\n",
              "      <td>5df49b32cc709107827fb3c7</td>\n",
              "      <td>5ec821ddec493f4a2655889e</td>\n",
              "      <td>2020-06-01T10:46:45.131Z</td>\n",
              "      <td>Save Earth.</td>\n",
              "      <td>Visual Arts|Graphic Design|Artistic design|Gra...</td>\n",
              "      <td>artwork</td>\n",
              "      <td>Niriksha Sharma</td>\n",
              "      <td>female</td>\n",
              "      <td>undergraduate</td>\n",
              "    </tr>\n",
              "    <tr>\n",
              "      <th>1</th>\n",
              "      <td>5df49b32cc709107827fb3c7</td>\n",
              "      <td>5ec1fd0974f7660d73aa0fd5</td>\n",
              "      <td>2020-05-18T08:35:28.241Z</td>\n",
              "      <td>Daaku</td>\n",
              "      <td>Drawings</td>\n",
              "      <td>artwork</td>\n",
              "      <td>Niriksha Sharma</td>\n",
              "      <td>female</td>\n",
              "      <td>undergraduate</td>\n",
              "    </tr>\n",
              "    <tr>\n",
              "      <th>2</th>\n",
              "      <td>5df49b32cc709107827fb3c7</td>\n",
              "      <td>5ecd5d417023451e662235c5</td>\n",
              "      <td>2020-05-26T20:11:07.153Z</td>\n",
              "      <td>Machine Learning”&amp;“Operations\" (MlOps)</td>\n",
              "      <td>Computer Technology|Machine Learning</td>\n",
              "      <td>blog</td>\n",
              "      <td>Niriksha Sharma</td>\n",
              "      <td>female</td>\n",
              "      <td>undergraduate</td>\n",
              "    </tr>\n",
              "    <tr>\n",
              "      <th>3</th>\n",
              "      <td>5df49b32cc709107827fb3c7</td>\n",
              "      <td>5ecb72c0eaff6b0c3a58a48e</td>\n",
              "      <td>2020-05-25T07:27:20.699Z</td>\n",
              "      <td>EID MUBARAK</td>\n",
              "      <td>Photography|Architecture|Visual Arts|Graphic D...</td>\n",
              "      <td>artwork</td>\n",
              "      <td>Niriksha Sharma</td>\n",
              "      <td>female</td>\n",
              "      <td>undergraduate</td>\n",
              "    </tr>\n",
              "    <tr>\n",
              "      <th>4</th>\n",
              "      <td>5df49b32cc709107827fb3c7</td>\n",
              "      <td>5ea5aacd10426255a7aa9b71</td>\n",
              "      <td>2020-05-13T09:20:46.457Z</td>\n",
              "      <td>Photography Composition</td>\n",
              "      <td>NaN</td>\n",
              "      <td>project</td>\n",
              "      <td>Niriksha Sharma</td>\n",
              "      <td>female</td>\n",
              "      <td>undergraduate</td>\n",
              "    </tr>\n",
              "  </tbody>\n",
              "</table>\n",
              "</div>"
            ],
            "text/plain": [
              "                    user_id                   post_id  ...  gender      academics\n",
              "0  5df49b32cc709107827fb3c7  5ec821ddec493f4a2655889e  ...  female  undergraduate\n",
              "1  5df49b32cc709107827fb3c7  5ec1fd0974f7660d73aa0fd5  ...  female  undergraduate\n",
              "2  5df49b32cc709107827fb3c7  5ecd5d417023451e662235c5  ...  female  undergraduate\n",
              "3  5df49b32cc709107827fb3c7  5ecb72c0eaff6b0c3a58a48e  ...  female  undergraduate\n",
              "4  5df49b32cc709107827fb3c7  5ea5aacd10426255a7aa9b71  ...  female  undergraduate\n",
              "\n",
              "[5 rows x 9 columns]"
            ]
          },
          "metadata": {
            "tags": []
          },
          "execution_count": 10
        }
      ]
    },
    {
      "cell_type": "code",
      "metadata": {
        "id": "-B1MNj4cKN15",
        "colab_type": "code",
        "colab": {
          "base_uri": "https://localhost:8080/",
          "height": 369
        },
        "outputId": "318001b3-9ccb-41cc-b139-ce31488725a6"
      },
      "source": [
        "plt.figure(figsize=(6,5))\n",
        "sns.countplot(combine.post_type)\n",
        "plt.tight_layout()"
      ],
      "execution_count": 11,
      "outputs": [
        {
          "output_type": "display_data",
          "data": {
            "image/png": "[encoded data removed]",
            "text/plain": [
              "<Figure size 432x360 with 1 Axes>"
            ]
          },
          "metadata": {
            "tags": [],
            "needs_background": "light"
          }
        }
      ]
    },
    {
      "cell_type": "code",
      "metadata": {
        "id": "C-38NUkqKN2A",
        "colab_type": "code",
        "colab": {
          "base_uri": "https://localhost:8080/",
          "height": 369
        },
        "outputId": "c559a395-fd2e-436a-cead-5277d20c2d70"
      },
      "source": [
        "plt.figure(figsize=(6,5))\n",
        "sns.countplot(combine.academics)\n",
        "plt.tight_layout()"
      ],
      "execution_count": 12,
      "outputs": [
        {
          "output_type": "display_data",
          "data": {
            "image/png": "[encoded data removed]",
            "text/plain": [
              "<Figure size 432x360 with 1 Axes>"
            ]
          },
          "metadata": {
            "tags": [],
            "needs_background": "light"
          }
        }
      ]
    },
    {
      "cell_type": "markdown",
      "metadata": {
        "id": "Wd5H9qoPRq9t",
        "colab_type": "text"
      },
      "source": [
        "**Count of posts**"
      ]
    },
    {
      "cell_type": "code",
      "metadata": {
        "id": "-RsEkd6KKN2H",
        "colab_type": "code",
        "colab": {
          "base_uri": "https://localhost:8080/",
          "height": 102
        },
        "outputId": "6d2a3cd3-01b0-4e93-97ff-5551cce8b5f4"
      },
      "source": [
        "combine.post_type.value_counts()"
      ],
      "execution_count": 13,
      "outputs": [
        {
          "output_type": "execute_result",
          "data": {
            "text/plain": [
              "artwork    752\n",
              "blog       472\n",
              "skill      136\n",
              "project     87\n",
              "Name: post_type, dtype: int64"
            ]
          },
          "metadata": {
            "tags": []
          },
          "execution_count": 13
        }
      ]
    },
    {
      "cell_type": "markdown",
      "metadata": {
        "id": "fSaueUgiHZB3",
        "colab_type": "text"
      },
      "source": [
        "**Arranging post type**"
      ]
    },
    {
      "cell_type": "code",
      "metadata": {
        "id": "jvrXOFovKN2N",
        "colab_type": "code",
        "colab": {}
      },
      "source": [
        "post_type_strength={'artwork':1.0,\n",
        "'blog':2.0,\n",
        "'skill':3.0,\n",
        "'project':4.0}"
      ],
      "execution_count": 0,
      "outputs": []
    },
    {
      "cell_type": "markdown",
      "metadata": {
        "id": "iJ_cDoBDH0ZB",
        "colab_type": "text"
      },
      "source": [
        "**Adding arrangement to combine dataset**"
      ]
    },
    {
      "cell_type": "code",
      "metadata": {
        "id": "PvWFMXIYKN2V",
        "colab_type": "code",
        "colab": {}
      },
      "source": [
        "combine['post_type_strength']=combine['post_type'].apply(lambda x : post_type_strength[x])"
      ],
      "execution_count": 0,
      "outputs": []
    },
    {
      "cell_type": "code",
      "metadata": {
        "id": "qpknyn7wKN2b",
        "colab_type": "code",
        "colab": {
          "base_uri": "https://localhost:8080/",
          "height": 326
        },
        "outputId": "08f0a887-ded0-49d8-b2d6-99d468b18324"
      },
      "source": [
        "combine.head()"
      ],
      "execution_count": 16,
      "outputs": [
        {
          "output_type": "execute_result",
          "data": {
            "text/html": [
              "<div>\n",
              "<style scoped>\n",
              "    .dataframe tbody tr th:only-of-type {\n",
              "        vertical-align: middle;\n",
              "    }\n",
              "\n",
              "    .dataframe tbody tr th {\n",
              "        vertical-align: top;\n",
              "    }\n",
              "\n",
              "    .dataframe thead th {\n",
              "        text-align: right;\n",
              "    }\n",
              "</style>\n",
              "<table border=\"1\" class=\"dataframe\">\n",
              "  <thead>\n",
              "    <tr style=\"text-align: right;\">\n",
              "      <th></th>\n",
              "      <th>user_id</th>\n",
              "      <th>post_id</th>\n",
              "      <th>timestamp</th>\n",
              "      <th>title</th>\n",
              "      <th>category</th>\n",
              "      <th>post_type</th>\n",
              "      <th>name</th>\n",
              "      <th>gender</th>\n",
              "      <th>academics</th>\n",
              "      <th>post_type_strength</th>\n",
              "    </tr>\n",
              "  </thead>\n",
              "  <tbody>\n",
              "    <tr>\n",
              "      <th>0</th>\n",
              "      <td>5df49b32cc709107827fb3c7</td>\n",
              "      <td>5ec821ddec493f4a2655889e</td>\n",
              "      <td>2020-06-01T10:46:45.131Z</td>\n",
              "      <td>Save Earth.</td>\n",
              "      <td>Visual Arts|Graphic Design|Artistic design|Gra...</td>\n",
              "      <td>artwork</td>\n",
              "      <td>Niriksha Sharma</td>\n",
              "      <td>female</td>\n",
              "      <td>undergraduate</td>\n",
              "      <td>1.0</td>\n",
              "    </tr>\n",
              "    <tr>\n",
              "      <th>1</th>\n",
              "      <td>5df49b32cc709107827fb3c7</td>\n",
              "      <td>5ec1fd0974f7660d73aa0fd5</td>\n",
              "      <td>2020-05-18T08:35:28.241Z</td>\n",
              "      <td>Daaku</td>\n",
              "      <td>Drawings</td>\n",
              "      <td>artwork</td>\n",
              "      <td>Niriksha Sharma</td>\n",
              "      <td>female</td>\n",
              "      <td>undergraduate</td>\n",
              "      <td>1.0</td>\n",
              "    </tr>\n",
              "    <tr>\n",
              "      <th>2</th>\n",
              "      <td>5df49b32cc709107827fb3c7</td>\n",
              "      <td>5ecd5d417023451e662235c5</td>\n",
              "      <td>2020-05-26T20:11:07.153Z</td>\n",
              "      <td>Machine Learning”&amp;“Operations\" (MlOps)</td>\n",
              "      <td>Computer Technology|Machine Learning</td>\n",
              "      <td>blog</td>\n",
              "      <td>Niriksha Sharma</td>\n",
              "      <td>female</td>\n",
              "      <td>undergraduate</td>\n",
              "      <td>2.0</td>\n",
              "    </tr>\n",
              "    <tr>\n",
              "      <th>3</th>\n",
              "      <td>5df49b32cc709107827fb3c7</td>\n",
              "      <td>5ecb72c0eaff6b0c3a58a48e</td>\n",
              "      <td>2020-05-25T07:27:20.699Z</td>\n",
              "      <td>EID MUBARAK</td>\n",
              "      <td>Photography|Architecture|Visual Arts|Graphic D...</td>\n",
              "      <td>artwork</td>\n",
              "      <td>Niriksha Sharma</td>\n",
              "      <td>female</td>\n",
              "      <td>undergraduate</td>\n",
              "      <td>1.0</td>\n",
              "    </tr>\n",
              "    <tr>\n",
              "      <th>4</th>\n",
              "      <td>5df49b32cc709107827fb3c7</td>\n",
              "      <td>5ea5aacd10426255a7aa9b71</td>\n",
              "      <td>2020-05-13T09:20:46.457Z</td>\n",
              "      <td>Photography Composition</td>\n",
              "      <td>NaN</td>\n",
              "      <td>project</td>\n",
              "      <td>Niriksha Sharma</td>\n",
              "      <td>female</td>\n",
              "      <td>undergraduate</td>\n",
              "      <td>4.0</td>\n",
              "    </tr>\n",
              "  </tbody>\n",
              "</table>\n",
              "</div>"
            ],
            "text/plain": [
              "                    user_id  ... post_type_strength\n",
              "0  5df49b32cc709107827fb3c7  ...                1.0\n",
              "1  5df49b32cc709107827fb3c7  ...                1.0\n",
              "2  5df49b32cc709107827fb3c7  ...                2.0\n",
              "3  5df49b32cc709107827fb3c7  ...                1.0\n",
              "4  5df49b32cc709107827fb3c7  ...                4.0\n",
              "\n",
              "[5 rows x 10 columns]"
            ]
          },
          "metadata": {
            "tags": []
          },
          "execution_count": 16
        }
      ]
    },
    {
      "cell_type": "code",
      "metadata": {
        "id": "TcdkXS2kKN2g",
        "colab_type": "code",
        "colab": {}
      },
      "source": [
        "# We get the final result of grouped post_type_Strength"
      ],
      "execution_count": 0,
      "outputs": []
    },
    {
      "cell_type": "code",
      "metadata": {
        "id": "Xmqt2jPeKN2m",
        "colab_type": "code",
        "colab": {
          "base_uri": "https://localhost:8080/",
          "height": 359
        },
        "outputId": "df796c66-74d3-4abc-c780-1741ab0b334a"
      },
      "source": [
        "combine.drop_duplicates()\n",
        "group_combine=combine.groupby(['user_id','post_id','title']).sum().reset_index()\n",
        "group_combine.sample(10)"
      ],
      "execution_count": 18,
      "outputs": [
        {
          "output_type": "execute_result",
          "data": {
            "text/html": [
              "<div>\n",
              "<style scoped>\n",
              "    .dataframe tbody tr th:only-of-type {\n",
              "        vertical-align: middle;\n",
              "    }\n",
              "\n",
              "    .dataframe tbody tr th {\n",
              "        vertical-align: top;\n",
              "    }\n",
              "\n",
              "    .dataframe thead th {\n",
              "        text-align: right;\n",
              "    }\n",
              "</style>\n",
              "<table border=\"1\" class=\"dataframe\">\n",
              "  <thead>\n",
              "    <tr style=\"text-align: right;\">\n",
              "      <th></th>\n",
              "      <th>user_id</th>\n",
              "      <th>post_id</th>\n",
              "      <th>title</th>\n",
              "      <th>post_type_strength</th>\n",
              "    </tr>\n",
              "  </thead>\n",
              "  <tbody>\n",
              "    <tr>\n",
              "      <th>651</th>\n",
              "      <td>5df20f1fee4bb5252b4f5351</td>\n",
              "      <td>5e4ba8b2f5561b1994c8e39f</td>\n",
              "      <td>Hand art</td>\n",
              "      <td>3.0</td>\n",
              "    </tr>\n",
              "    <tr>\n",
              "      <th>342</th>\n",
              "      <td>5d610ae1653a331687083239</td>\n",
              "      <td>5ecc186aeaff6b0c3a58a53f</td>\n",
              "      <td>Beliefs ❣️</td>\n",
              "      <td>1.0</td>\n",
              "    </tr>\n",
              "    <tr>\n",
              "      <th>1314</th>\n",
              "      <td>5ecb979eeaff6b0c3a58a4f0</td>\n",
              "      <td>5ed2502b76027d35905cc7db</td>\n",
              "      <td>Learning...</td>\n",
              "      <td>2.0</td>\n",
              "    </tr>\n",
              "    <tr>\n",
              "      <th>1374</th>\n",
              "      <td>5ed2672576027d35905cc7f6</td>\n",
              "      <td>5ed2383776027d35905cc6ca</td>\n",
              "      <td>Self belief.</td>\n",
              "      <td>1.0</td>\n",
              "    </tr>\n",
              "    <tr>\n",
              "      <th>1285</th>\n",
              "      <td>5ecb979eeaff6b0c3a58a4f0</td>\n",
              "      <td>5ecd6ba47023451e66223604</td>\n",
              "      <td>Be yourself !!</td>\n",
              "      <td>1.0</td>\n",
              "    </tr>\n",
              "    <tr>\n",
              "      <th>406</th>\n",
              "      <td>5d7c994d5720533e15c3b1e9</td>\n",
              "      <td>5e52f911d701ab08af792a12</td>\n",
              "      <td>Communication</td>\n",
              "      <td>2.0</td>\n",
              "    </tr>\n",
              "    <tr>\n",
              "      <th>215</th>\n",
              "      <td>5d60098a653a331687083238</td>\n",
              "      <td>5ed1ff0276027d35905cc60d</td>\n",
              "      <td>AWS services and how to launch OS on AWS Cloud</td>\n",
              "      <td>2.0</td>\n",
              "    </tr>\n",
              "    <tr>\n",
              "      <th>272</th>\n",
              "      <td>5d610ae1653a331687083239</td>\n",
              "      <td>5e901f23a3258347b42f2725</td>\n",
              "      <td>Advantages of Online Shopping Over Offline Sho...</td>\n",
              "      <td>2.0</td>\n",
              "    </tr>\n",
              "    <tr>\n",
              "      <th>385</th>\n",
              "      <td>5d6d2bb87fa40e1417a49315</td>\n",
              "      <td>5ec57acaf2781131cc7e51d5</td>\n",
              "      <td>Ruins.</td>\n",
              "      <td>1.0</td>\n",
              "    </tr>\n",
              "    <tr>\n",
              "      <th>153</th>\n",
              "      <td>5d60098a653a331687083238</td>\n",
              "      <td>5eab924610426255a7aa9c90</td>\n",
              "      <td>Two 🐦 Sing A Song</td>\n",
              "      <td>1.0</td>\n",
              "    </tr>\n",
              "  </tbody>\n",
              "</table>\n",
              "</div>"
            ],
            "text/plain": [
              "                       user_id  ... post_type_strength\n",
              "651   5df20f1fee4bb5252b4f5351  ...                3.0\n",
              "342   5d610ae1653a331687083239  ...                1.0\n",
              "1314  5ecb979eeaff6b0c3a58a4f0  ...                2.0\n",
              "1374  5ed2672576027d35905cc7f6  ...                1.0\n",
              "1285  5ecb979eeaff6b0c3a58a4f0  ...                1.0\n",
              "406   5d7c994d5720533e15c3b1e9  ...                2.0\n",
              "215   5d60098a653a331687083238  ...                2.0\n",
              "272   5d610ae1653a331687083239  ...                2.0\n",
              "385   5d6d2bb87fa40e1417a49315  ...                1.0\n",
              "153   5d60098a653a331687083238  ...                1.0\n",
              "\n",
              "[10 rows x 4 columns]"
            ]
          },
          "metadata": {
            "tags": []
          },
          "execution_count": 18
        }
      ]
    },
    {
      "cell_type": "code",
      "metadata": {
        "id": "3-k4L9QsKN2s",
        "colab_type": "code",
        "colab": {}
      },
      "source": [
        "group_combine.user_id=group_combine.user_id.astype('category')\n",
        "group_combine.post_id=group_combine.post_id.astype('category')\n",
        "group_combine.title=group_combine.title.astype('category')"
      ],
      "execution_count": 0,
      "outputs": []
    },
    {
      "cell_type": "code",
      "metadata": {
        "id": "ICVaYi07KN2y",
        "colab_type": "code",
        "colab": {}
      },
      "source": [
        "group_combine.user_id=group_combine.user_id.cat.codes\n",
        "group_combine.post_id=group_combine.post_id.cat.codes"
      ],
      "execution_count": 0,
      "outputs": []
    },
    {
      "cell_type": "markdown",
      "metadata": {
        "id": "t6yVCJfpIXK-",
        "colab_type": "text"
      },
      "source": [
        "**Sparsing using Compressed Sparse Row(CSR) matrix**"
      ]
    },
    {
      "cell_type": "code",
      "metadata": {
        "id": "PzuWDevCKN24",
        "colab_type": "code",
        "colab": {}
      },
      "source": [
        "sparse_user_post = sparse.csr_matrix((group_combine['post_type_strength'].astype(float), (group_combine['user_id'], group_combine['post_id'])))\n",
        "sparse_post_user = sparse.csr_matrix((group_combine['post_type_strength'].astype(float), (group_combine['post_id'], group_combine['user_id'])))"
      ],
      "execution_count": 0,
      "outputs": []
    },
    {
      "cell_type": "code",
      "metadata": {
        "id": "JXtH_ZZ8KN29",
        "colab_type": "code",
        "colab": {
          "base_uri": "https://localhost:8080/",
          "height": 71
        },
        "outputId": "b1e14dc8-d74d-48fc-ec8f-c7bfc29f44f4"
      },
      "source": [
        "model = implicit.als.AlternatingLeastSquares(factors=20, regularization=0.1, iterations=50)"
      ],
      "execution_count": 22,
      "outputs": [
        {
          "output_type": "stream",
          "text": [
            "GPU training requires factor size to be a multiple of 32. Increasing factors from 20 to 32.\n",
            "WARNING:root:OpenBLAS detected. Its highly recommend to set the environment variable 'export OPENBLAS_NUM_THREADS=1' to disable its internal multithreading\n"
          ],
          "name": "stderr"
        }
      ]
    },
    {
      "cell_type": "code",
      "metadata": {
        "id": "qlSNlI_1KN3D",
        "colab_type": "code",
        "colab": {
          "base_uri": "https://localhost:8080/",
          "height": 66,
          "referenced_widgets": [
            "0b8bb7d40378466a8dbbb777ae137816",
            "1ba5f706743641ee9fa0b8f9eb08fbe4",
            "c814e9decfe249c995abede3aa7dd840",
            "6216bd943cdf4c6e9048652505b7154c",
            "7b8d824c048e411695b74f40539fe8e3",
            "57aabe6ea95a4140a00a88af4077a36e",
            "6686516d87874948b9e6ca38658c12b6",
            "1878319d2259476ba979a3152514ec94"
          ]
        },
        "outputId": "7184c32b-47f3-439f-8abd-2ee0df6eb483"
      },
      "source": [
        "alpha = 15\n",
        "data = (sparse_post_user * alpha).astype('double')\n",
        "model.fit(data)"
      ],
      "execution_count": 23,
      "outputs": [
        {
          "output_type": "display_data",
          "data": {
            "application/vnd.jupyter.widget-view+json": {
              "model_id": "0b8bb7d40378466a8dbbb777ae137816",
              "version_minor": 0,
              "version_major": 2
            },
            "text/plain": [
              "HBox(children=(FloatProgress(value=0.0, max=50.0), HTML(value='')))"
            ]
          },
          "metadata": {
            "tags": []
          }
        },
        {
          "output_type": "stream",
          "text": [
            "\n"
          ],
          "name": "stdout"
        }
      ]
    },
    {
      "cell_type": "code",
      "metadata": {
        "id": "j_lkA8qKKN3J",
        "colab_type": "code",
        "colab": {
          "base_uri": "https://localhost:8080/",
          "height": 187
        },
        "outputId": "a48f6877-0c59-4bfb-cb13-8f49c0562564"
      },
      "source": [
        "post_id = 50\n",
        "n_similar = 10\n",
        "\n",
        "user_vecs = model.user_factors\n",
        "post_vecs = model.item_factors\n",
        "\n",
        "post_norms = np.sqrt((post_vecs * post_vecs).sum(axis=1))\n",
        "\n",
        "scores = post_vecs.dot(post_vecs[post_id]) / post_norms\n",
        "top_idx = np.argpartition(scores, -n_similar)[-n_similar:]\n",
        "similar = sorted(zip(top_idx, scores[top_idx] / post_norms[post_id]), key=lambda x: -x[1])\n",
        "\n",
        "for post in similar:\n",
        "    idx, score = post\n",
        "    print(group_combine.title.loc[group_combine.post_id == idx].iloc[0])"
      ],
      "execution_count": 24,
      "outputs": [
        {
          "output_type": "stream",
          "text": [
            "Ethernet\n",
            "Graphical Input Devices\n",
            "Shadow Sketch\n",
            "MK Swords\n",
            "SEO (Search Engine Optimization)\n",
            "Stereoscopic and virtual-reality systems\n",
            "Computer Graphics\n",
            "Om Namah Shivaay\n",
            "Kid Bu\n",
            "Data Transmission Modes\n"
          ],
          "name": "stdout"
        }
      ]
    },
    {
      "cell_type": "code",
      "metadata": {
        "id": "jo-oeHaAKN3Q",
        "colab_type": "code",
        "colab": {
          "base_uri": "https://localhost:8080/",
          "height": 204
        },
        "outputId": "e3a9d1cb-c023-4b8a-a8b6-55de16587684"
      },
      "source": [
        "def recommend(user_id, sparse_user_post, user_vecs, post_vecs, num_posts=10):\n",
        "    # Get the interactions scores from the sparse person content matrix\n",
        "    user_interactions = sparse_user_post[user_id,:].toarray()\n",
        "    # Add 1 to everything, so that articles with no interaction yet become equal to 1\n",
        "    user_interactions = user_interactions.reshape(-1) + 1\n",
        "    # Make articles already interacted zero\n",
        "    user_interactions[user_interactions > 1] = 0\n",
        "    # Get dot product of person vector and all content vectors\n",
        "    rec_vector = user_vecs[user_id,:].dot(post_vecs.T).toarray()\n",
        "    \n",
        "    # Scale this recommendation vector between 0 and 1\n",
        "    min_max = MinMaxScaler()\n",
        "    rec_vector_scaled = min_max.fit_transform(rec_vector.reshape(-1,1))[:,0]\n",
        "    # Content already interacted have their recommendation multiplied by zero\n",
        "    recommend_vector = user_interactions * rec_vector_scaled\n",
        "    # Sort the indices of the content into order of best recommendations\n",
        "    post_idx = np.argsort(recommend_vector)[::-1][:num_posts]\n",
        "    \n",
        "    # Start empty list to store titles and scores\n",
        "    titles = []\n",
        "    scores = []\n",
        "\n",
        "    for idx in post_idx:\n",
        "        # Append titles and scores to the list\n",
        "        titles.append(group_combine.title.loc[group_combine.post_id == idx].iloc[0])\n",
        "        scores.append(recommend_vector[idx])\n",
        "\n",
        "    recommendations = pd.DataFrame({'title': titles, 'score': scores})\n",
        "\n",
        "    return recommendations\n",
        "    \n",
        "# Get the trained person and content vectors. We convert them to csr matrices\n",
        "user_vecs = sparse.csr_matrix(model.user_factors)\n",
        "post_vecs = sparse.csr_matrix(model.item_factors)\n",
        "\n",
        "# Create recommendations for person with id 50\n",
        "user_id = 50\n",
        "\n",
        "recommendations = recommend(user_id, sparse_user_post, user_vecs, post_vecs)\n",
        "\n",
        "print(recommendations)"
      ],
      "execution_count": 25,
      "outputs": [
        {
          "output_type": "stream",
          "text": [
            "                                               title     score\n",
            "0                            Artificial Intelligence  0.716657\n",
            "1                                             Piglet  0.585690\n",
            "2                                       Let's Slide.  0.554265\n",
            "3              A stone bridge on the full moon night  0.554265\n",
            "4                                    The sorting hat  0.539550\n",
            "5                                            Truth❤💯  0.539550\n",
            "6                                         Travelling  0.539550\n",
            "7                                   Factorial (.net)  0.522745\n",
            "8           Filtered Busy Streets  (Jaisalmer; Raj.)  0.483702\n",
            "9  Interesting Facts On India That You Had No Ide...  0.474447\n"
          ],
          "name": "stdout"
        }
      ]
    },
    {
      "cell_type": "markdown",
      "metadata": {
        "id": "QHQEeV4xKN3W",
        "colab_type": "text"
      },
      "source": [
        "Here we have top 10 recommendations for user_id = 50. Let’s get top 10 articles this person has interacted with."
      ]
    },
    {
      "cell_type": "code",
      "metadata": {
        "id": "tb-KMNiUKN3X",
        "colab_type": "code",
        "colab": {
          "base_uri": "https://localhost:8080/",
          "height": 204
        },
        "outputId": "c87a0b94-11ed-4363-ae87-470571b46dc8"
      },
      "source": [
        "group_combine.loc[group_combine['user_id']==50].sort_values(by=['post_type_strength'], ascending=False)[['title', 'user_id', 'post_type_strength']].head(10)"
      ],
      "execution_count": 26,
      "outputs": [
        {
          "output_type": "execute_result",
          "data": {
            "text/html": [
              "<div>\n",
              "<style scoped>\n",
              "    .dataframe tbody tr th:only-of-type {\n",
              "        vertical-align: middle;\n",
              "    }\n",
              "\n",
              "    .dataframe tbody tr th {\n",
              "        vertical-align: top;\n",
              "    }\n",
              "\n",
              "    .dataframe thead th {\n",
              "        text-align: right;\n",
              "    }\n",
              "</style>\n",
              "<table border=\"1\" class=\"dataframe\">\n",
              "  <thead>\n",
              "    <tr style=\"text-align: right;\">\n",
              "      <th></th>\n",
              "      <th>title</th>\n",
              "      <th>user_id</th>\n",
              "      <th>post_type_strength</th>\n",
              "    </tr>\n",
              "  </thead>\n",
              "  <tbody>\n",
              "    <tr>\n",
              "      <th>1085</th>\n",
              "      <td>Are We Alone In The Universe?</td>\n",
              "      <td>50</td>\n",
              "      <td>2.0</td>\n",
              "    </tr>\n",
              "    <tr>\n",
              "      <th>1087</th>\n",
              "      <td>आमची मुंबाई !!!</td>\n",
              "      <td>50</td>\n",
              "      <td>2.0</td>\n",
              "    </tr>\n",
              "    <tr>\n",
              "      <th>1083</th>\n",
              "      <td>Leap of faith</td>\n",
              "      <td>50</td>\n",
              "      <td>1.0</td>\n",
              "    </tr>\n",
              "    <tr>\n",
              "      <th>1084</th>\n",
              "      <td>Night View Ha Penny Bridge in Dublin Ireland</td>\n",
              "      <td>50</td>\n",
              "      <td>1.0</td>\n",
              "    </tr>\n",
              "    <tr>\n",
              "      <th>1086</th>\n",
              "      <td>BEING CREATIVE☺☺</td>\n",
              "      <td>50</td>\n",
              "      <td>1.0</td>\n",
              "    </tr>\n",
              "  </tbody>\n",
              "</table>\n",
              "</div>"
            ],
            "text/plain": [
              "                                             title  user_id  post_type_strength\n",
              "1085                 Are We Alone In The Universe?       50                 2.0\n",
              "1087                               आमची मुंबाई !!!       50                 2.0\n",
              "1083                                 Leap of faith       50                 1.0\n",
              "1084  Night View Ha Penny Bridge in Dublin Ireland       50                 1.0\n",
              "1086                              BEING CREATIVE☺☺       50                 1.0"
            ]
          },
          "metadata": {
            "tags": []
          },
          "execution_count": 26
        }
      ]
    },
    {
      "cell_type": "code",
      "metadata": {
        "id": "_7D3CMdWC_DI",
        "colab_type": "code",
        "colab": {}
      },
      "source": [
        ""
      ],
      "execution_count": 0,
      "outputs": []
    }
  ]
}