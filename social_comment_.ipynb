{
  "nbformat": 4,
  "nbformat_minor": 0,
  "metadata": {
    "kernelspec": {
      "display_name": "Python 3",
      "language": "python",
      "name": "python3"
    },
    "language_info": {
      "codemirror_mode": {
        "name": "ipython",
        "version": 3
      },
      "file_extension": ".py",
      "mimetype": "text/x-python",
      "name": "python",
      "nbconvert_exporter": "python",
      "pygments_lexer": "ipython3",
      "version": "3.8.2"
    },
    "colab": {
      "name": "social comment .ipynb",
      "provenance": [],
      "collapsed_sections": [],
      "include_colab_link": true
    },
    "accelerator": "GPU",
    "widgets": {
      "application/vnd.jupyter.widget-state+json": {
        "e484e295c15a4727a4e268da3c0dd9ec": {
          "model_module": "@jupyter-widgets/controls",
          "model_name": "HBoxModel",
          "state": {
            "_view_name": "HBoxView",
            "_dom_classes": [],
            "_model_name": "HBoxModel",
            "_view_module": "@jupyter-widgets/controls",
            "_model_module_version": "1.5.0",
            "_view_count": null,
            "_view_module_version": "1.5.0",
            "box_style": "",
            "layout": "IPY_MODEL_bfaaae61391947f6b286542352742631",
            "_model_module": "@jupyter-widgets/controls",
            "children": [
              "IPY_MODEL_94bacfa2791c4ee5b6f5c3af77fa89e6",
              "IPY_MODEL_61925e93d2914f5fa8c323c07b186579"
            ]
          }
        },
        "bfaaae61391947f6b286542352742631": {
          "model_module": "@jupyter-widgets/base",
          "model_name": "LayoutModel",
          "state": {
            "_view_name": "LayoutView",
            "grid_template_rows": null,
            "right": null,
            "justify_content": null,
            "_view_module": "@jupyter-widgets/base",
            "overflow": null,
            "_model_module_version": "1.2.0",
            "_view_count": null,
            "flex_flow": null,
            "width": null,
            "min_width": null,
            "border": null,
            "align_items": null,
            "bottom": null,
            "_model_module": "@jupyter-widgets/base",
            "top": null,
            "grid_column": null,
            "overflow_y": null,
            "overflow_x": null,
            "grid_auto_flow": null,
            "grid_area": null,
            "grid_template_columns": null,
            "flex": null,
            "_model_name": "LayoutModel",
            "justify_items": null,
            "grid_row": null,
            "max_height": null,
            "align_content": null,
            "visibility": null,
            "align_self": null,
            "height": null,
            "min_height": null,
            "padding": null,
            "grid_auto_rows": null,
            "grid_gap": null,
            "max_width": null,
            "order": null,
            "_view_module_version": "1.2.0",
            "grid_template_areas": null,
            "object_position": null,
            "object_fit": null,
            "grid_auto_columns": null,
            "margin": null,
            "display": null,
            "left": null
          }
        },
        "94bacfa2791c4ee5b6f5c3af77fa89e6": {
          "model_module": "@jupyter-widgets/controls",
          "model_name": "FloatProgressModel",
          "state": {
            "_view_name": "ProgressView",
            "style": "IPY_MODEL_7615be809bed4d66b31a325c359727b1",
            "_dom_classes": [],
            "description": "100%",
            "_model_name": "FloatProgressModel",
            "bar_style": "success",
            "max": 50,
            "_view_module": "@jupyter-widgets/controls",
            "_model_module_version": "1.5.0",
            "value": 50,
            "_view_count": null,
            "_view_module_version": "1.5.0",
            "orientation": "horizontal",
            "min": 0,
            "description_tooltip": null,
            "_model_module": "@jupyter-widgets/controls",
            "layout": "IPY_MODEL_8251213a73eb4d1abd8e3829b7de52f1"
          }
        },
        "61925e93d2914f5fa8c323c07b186579": {
          "model_module": "@jupyter-widgets/controls",
          "model_name": "HTMLModel",
          "state": {
            "_view_name": "HTMLView",
            "style": "IPY_MODEL_19f72210e490468fbf5a69ce5ae78d46",
            "_dom_classes": [],
            "description": "",
            "_model_name": "HTMLModel",
            "placeholder": "​",
            "_view_module": "@jupyter-widgets/controls",
            "_model_module_version": "1.5.0",
            "value": " 50/50 [00:00&lt;00:00, 319.24it/s]",
            "_view_count": null,
            "_view_module_version": "1.5.0",
            "description_tooltip": null,
            "_model_module": "@jupyter-widgets/controls",
            "layout": "IPY_MODEL_7616918e08064ed8be5e3f108c8ab370"
          }
        },
        "7615be809bed4d66b31a325c359727b1": {
          "model_module": "@jupyter-widgets/controls",
          "model_name": "ProgressStyleModel",
          "state": {
            "_view_name": "StyleView",
            "_model_name": "ProgressStyleModel",
            "description_width": "initial",
            "_view_module": "@jupyter-widgets/base",
            "_model_module_version": "1.5.0",
            "_view_count": null,
            "_view_module_version": "1.2.0",
            "bar_color": null,
            "_model_module": "@jupyter-widgets/controls"
          }
        },
        "8251213a73eb4d1abd8e3829b7de52f1": {
          "model_module": "@jupyter-widgets/base",
          "model_name": "LayoutModel",
          "state": {
            "_view_name": "LayoutView",
            "grid_template_rows": null,
            "right": null,
            "justify_content": null,
            "_view_module": "@jupyter-widgets/base",
            "overflow": null,
            "_model_module_version": "1.2.0",
            "_view_count": null,
            "flex_flow": null,
            "width": null,
            "min_width": null,
            "border": null,
            "align_items": null,
            "bottom": null,
            "_model_module": "@jupyter-widgets/base",
            "top": null,
            "grid_column": null,
            "overflow_y": null,
            "overflow_x": null,
            "grid_auto_flow": null,
            "grid_area": null,
            "grid_template_columns": null,
            "flex": null,
            "_model_name": "LayoutModel",
            "justify_items": null,
            "grid_row": null,
            "max_height": null,
            "align_content": null,
            "visibility": null,
            "align_self": null,
            "height": null,
            "min_height": null,
            "padding": null,
            "grid_auto_rows": null,
            "grid_gap": null,
            "max_width": null,
            "order": null,
            "_view_module_version": "1.2.0",
            "grid_template_areas": null,
            "object_position": null,
            "object_fit": null,
            "grid_auto_columns": null,
            "margin": null,
            "display": null,
            "left": null
          }
        },
        "19f72210e490468fbf5a69ce5ae78d46": {
          "model_module": "@jupyter-widgets/controls",
          "model_name": "DescriptionStyleModel",
          "state": {
            "_view_name": "StyleView",
            "_model_name": "DescriptionStyleModel",
            "description_width": "",
            "_view_module": "@jupyter-widgets/base",
            "_model_module_version": "1.5.0",
            "_view_count": null,
            "_view_module_version": "1.2.0",
            "_model_module": "@jupyter-widgets/controls"
          }
        },
        "7616918e08064ed8be5e3f108c8ab370": {
          "model_module": "@jupyter-widgets/base",
          "model_name": "LayoutModel",
          "state": {
            "_view_name": "LayoutView",
            "grid_template_rows": null,
            "right": null,
            "justify_content": null,
            "_view_module": "@jupyter-widgets/base",
            "overflow": null,
            "_model_module_version": "1.2.0",
            "_view_count": null,
            "flex_flow": null,
            "width": null,
            "min_width": null,
            "border": null,
            "align_items": null,
            "bottom": null,
            "_model_module": "@jupyter-widgets/base",
            "top": null,
            "grid_column": null,
            "overflow_y": null,
            "overflow_x": null,
            "grid_auto_flow": null,
            "grid_area": null,
            "grid_template_columns": null,
            "flex": null,
            "_model_name": "LayoutModel",
            "justify_items": null,
            "grid_row": null,
            "max_height": null,
            "align_content": null,
            "visibility": null,
            "align_self": null,
            "height": null,
            "min_height": null,
            "padding": null,
            "grid_auto_rows": null,
            "grid_gap": null,
            "max_width": null,
            "order": null,
            "_view_module_version": "1.2.0",
            "grid_template_areas": null,
            "object_position": null,
            "object_fit": null,
            "grid_auto_columns": null,
            "margin": null,
            "display": null,
            "left": null
          }
        }
      }
    }
  },
  "cells": [
    {
      "cell_type": "markdown",
      "metadata": {
        "id": "view-in-github",
        "colab_type": "text"
      },
      "source": [
        "<a href=\"https://colab.research.google.com/github/kumarg160491/internship_task_Socialmedia.com/blob/master/social_comment_.ipynb\" target=\"_parent\"><img src=\"https://colab.research.google.com/assets/colab-badge.svg\" alt=\"Open In Colab\"/></a>"
      ]
    },
    {
      "cell_type": "code",
      "metadata": {
        "id": "KMLC1UYiKTV4",
        "colab_type": "code",
        "colab": {
          "base_uri": "https://localhost:8080/",
          "height": 122
        },
        "outputId": "189a09b6-0841-48a8-af46-84598df6049b"
      },
      "source": [
        "from google.colab import drive\n",
        "drive.mount('/content/drive')"
      ],
      "execution_count": 1,
      "outputs": [
        {
          "output_type": "stream",
          "text": [
            "Go to this URL in a browser: https://accounts.google.com/o/oauth2/auth?client_id=947318989803-6bn6qk8qdgf4n4g3pfee6491hc0brc4i.apps.googleusercontent.com&redirect_uri=urn%3aietf%3awg%3aoauth%3a2.0%3aoob&response_type=code&scope=email%20https%3a%2f%2fwww.googleapis.com%2fauth%2fdocs.test%20https%3a%2f%2fwww.googleapis.com%2fauth%2fdrive%20https%3a%2f%2fwww.googleapis.com%2fauth%2fdrive.photos.readonly%20https%3a%2f%2fwww.googleapis.com%2fauth%2fpeopleapi.readonly\n",
            "\n",
            "Enter your authorization code:\n",
            "··········\n",
            "Mounted at /content/drive\n"
          ],
          "name": "stdout"
        }
      ]
    },
    {
      "cell_type": "markdown",
      "metadata": {
        "id": "EU7JbUqqKN0s",
        "colab_type": "text"
      },
      "source": [
        "Task as Follows:\n",
        "\n",
        "You have to build a Recommendation System, recommending the items based on the following.\n",
        "1. Content Based Filtering\n",
        "2. Collaborative Filtering\n",
        "\n",
        "\n",
        "End result should be a system that.\n",
        "\n",
        "1. Recommend posts for the given user\n",
        "2. Recommend similar posts for the given post"
      ]
    },
    {
      "cell_type": "code",
      "metadata": {
        "id": "k4UwXLr2KN0u",
        "colab_type": "code",
        "colab": {}
      },
      "source": [
        "import pandas as pd\n",
        "import numpy as np\n",
        "import matplotlib.pyplot as plt\n",
        "import seaborn as sns\n",
        "\n",
        "import scipy.sparse as sparse\n",
        "#!pip install implicit\n",
        "import random\n",
        "import implicit\n",
        "from sklearn.preprocessing import MinMaxScaler"
      ],
      "execution_count": 0,
      "outputs": []
    },
    {
      "cell_type": "code",
      "metadata": {
        "id": "AsXCAfHGKN03",
        "colab_type": "code",
        "colab": {}
      },
      "source": [
        "posts=pd.read_csv('/content/drive/My Drive/Practice/social_media/posts.csv')\n",
        "users=pd.read_csv('/content/drive/My Drive/Practice/social_media/users.csv')\n",
        "views=pd.read_csv('/content/drive/My Drive/Practice/social_media/views.csv')"
      ],
      "execution_count": 0,
      "outputs": []
    },
    {
      "cell_type": "code",
      "metadata": {
        "id": "nKCRCFBaKN0_",
        "colab_type": "code",
        "colab": {}
      },
      "source": [
        "posts.rename(columns={'_id':'post_id', 'title':'title', 'category':'category', ' post_type':'post_type'},\n",
        "            inplace=True)"
      ],
      "execution_count": 0,
      "outputs": []
    },
    {
      "cell_type": "code",
      "metadata": {
        "id": "A6qsHoQKKN1G",
        "colab_type": "code",
        "colab": {
          "base_uri": "https://localhost:8080/",
          "height": 204
        },
        "outputId": "65d1db75-d37d-44da-986c-4b570fe9d330"
      },
      "source": [
        "posts.head()"
      ],
      "execution_count": 7,
      "outputs": [
        {
          "output_type": "execute_result",
          "data": {
            "text/html": [
              "<div>\n",
              "<style scoped>\n",
              "    .dataframe tbody tr th:only-of-type {\n",
              "        vertical-align: middle;\n",
              "    }\n",
              "\n",
              "    .dataframe tbody tr th {\n",
              "        vertical-align: top;\n",
              "    }\n",
              "\n",
              "    .dataframe thead th {\n",
              "        text-align: right;\n",
              "    }\n",
              "</style>\n",
              "<table border=\"1\" class=\"dataframe\">\n",
              "  <thead>\n",
              "    <tr style=\"text-align: right;\">\n",
              "      <th></th>\n",
              "      <th>post_id</th>\n",
              "      <th>title</th>\n",
              "      <th>category</th>\n",
              "      <th>post_type</th>\n",
              "    </tr>\n",
              "  </thead>\n",
              "  <tbody>\n",
              "    <tr>\n",
              "      <th>0</th>\n",
              "      <td>5d62abaa65218653a132c956</td>\n",
              "      <td>hello there</td>\n",
              "      <td>Plant Biotechnology</td>\n",
              "      <td>blog</td>\n",
              "    </tr>\n",
              "    <tr>\n",
              "      <th>1</th>\n",
              "      <td>5d6d39567fa40e1417a4931c</td>\n",
              "      <td>Ml and AI</td>\n",
              "      <td>Artificial Intelligence|Machine Learning|Infor...</td>\n",
              "      <td>blog</td>\n",
              "    </tr>\n",
              "    <tr>\n",
              "      <th>2</th>\n",
              "      <td>5d7d23315720533e15c3b1ee</td>\n",
              "      <td>What is an Operating System ?</td>\n",
              "      <td>Operating Systems</td>\n",
              "      <td>blog</td>\n",
              "    </tr>\n",
              "    <tr>\n",
              "      <th>3</th>\n",
              "      <td>5d7d405e5720533e15c3b1f3</td>\n",
              "      <td>Lord Shiva</td>\n",
              "      <td>Drawings</td>\n",
              "      <td>artwork</td>\n",
              "    </tr>\n",
              "    <tr>\n",
              "      <th>4</th>\n",
              "      <td>5d80dfbc6c53455f896e600e</td>\n",
              "      <td>How Competition law evolved?</td>\n",
              "      <td>Competition Laws</td>\n",
              "      <td>blog</td>\n",
              "    </tr>\n",
              "  </tbody>\n",
              "</table>\n",
              "</div>"
            ],
            "text/plain": [
              "                    post_id  ... post_type\n",
              "0  5d62abaa65218653a132c956  ...      blog\n",
              "1  5d6d39567fa40e1417a4931c  ...      blog\n",
              "2  5d7d23315720533e15c3b1ee  ...      blog\n",
              "3  5d7d405e5720533e15c3b1f3  ...   artwork\n",
              "4  5d80dfbc6c53455f896e600e  ...      blog\n",
              "\n",
              "[5 rows x 4 columns]"
            ]
          },
          "metadata": {
            "tags": []
          },
          "execution_count": 7
        }
      ]
    },
    {
      "cell_type": "code",
      "metadata": {
        "id": "I4wbiPNUKN1O",
        "colab_type": "code",
        "colab": {
          "base_uri": "https://localhost:8080/",
          "height": 204
        },
        "outputId": "a15a6437-9d79-45ae-dd9a-33faa0bbfdbf"
      },
      "source": [
        "users.rename(columns={'_id':'user_id'},inplace=True)\n",
        "users.head()"
      ],
      "execution_count": 8,
      "outputs": [
        {
          "output_type": "execute_result",
          "data": {
            "text/html": [
              "<div>\n",
              "<style scoped>\n",
              "    .dataframe tbody tr th:only-of-type {\n",
              "        vertical-align: middle;\n",
              "    }\n",
              "\n",
              "    .dataframe tbody tr th {\n",
              "        vertical-align: top;\n",
              "    }\n",
              "\n",
              "    .dataframe thead th {\n",
              "        text-align: right;\n",
              "    }\n",
              "</style>\n",
              "<table border=\"1\" class=\"dataframe\">\n",
              "  <thead>\n",
              "    <tr style=\"text-align: right;\">\n",
              "      <th></th>\n",
              "      <th>user_id</th>\n",
              "      <th>name</th>\n",
              "      <th>gender</th>\n",
              "      <th>academics</th>\n",
              "    </tr>\n",
              "  </thead>\n",
              "  <tbody>\n",
              "    <tr>\n",
              "      <th>0</th>\n",
              "      <td>5d60098a653a331687083238</td>\n",
              "      <td>Nivesh Singh Chauhan</td>\n",
              "      <td>male</td>\n",
              "      <td>undergraduate</td>\n",
              "    </tr>\n",
              "    <tr>\n",
              "      <th>1</th>\n",
              "      <td>5d610ae1653a331687083239</td>\n",
              "      <td>Gaurav Sharma</td>\n",
              "      <td>male</td>\n",
              "      <td>graduate</td>\n",
              "    </tr>\n",
              "    <tr>\n",
              "      <th>2</th>\n",
              "      <td>5d618359fc5fcf3bdd9a0910</td>\n",
              "      <td>Akshay Mishra</td>\n",
              "      <td>male</td>\n",
              "      <td>undergraduate</td>\n",
              "    </tr>\n",
              "    <tr>\n",
              "      <th>3</th>\n",
              "      <td>5d6d2bb87fa40e1417a49315</td>\n",
              "      <td>Saksham Mathur</td>\n",
              "      <td>male</td>\n",
              "      <td>undergraduate</td>\n",
              "    </tr>\n",
              "    <tr>\n",
              "      <th>4</th>\n",
              "      <td>5d7c994d5720533e15c3b1e9</td>\n",
              "      <td>Varun Chowhan</td>\n",
              "      <td>male</td>\n",
              "      <td>undergraduate</td>\n",
              "    </tr>\n",
              "  </tbody>\n",
              "</table>\n",
              "</div>"
            ],
            "text/plain": [
              "                    user_id                  name gender      academics\n",
              "0  5d60098a653a331687083238  Nivesh Singh Chauhan   male  undergraduate\n",
              "1  5d610ae1653a331687083239         Gaurav Sharma   male       graduate\n",
              "2  5d618359fc5fcf3bdd9a0910         Akshay Mishra   male  undergraduate\n",
              "3  5d6d2bb87fa40e1417a49315        Saksham Mathur   male  undergraduate\n",
              "4  5d7c994d5720533e15c3b1e9         Varun Chowhan   male  undergraduate"
            ]
          },
          "metadata": {
            "tags": []
          },
          "execution_count": 8
        }
      ]
    },
    {
      "cell_type": "code",
      "metadata": {
        "id": "E-pM_3YIKN1X",
        "colab_type": "code",
        "colab": {
          "base_uri": "https://localhost:8080/",
          "height": 204
        },
        "outputId": "c16de2e9-2510-4cbc-8cc0-9e48c7b66c93"
      },
      "source": [
        "views.head()"
      ],
      "execution_count": 9,
      "outputs": [
        {
          "output_type": "execute_result",
          "data": {
            "text/html": [
              "<div>\n",
              "<style scoped>\n",
              "    .dataframe tbody tr th:only-of-type {\n",
              "        vertical-align: middle;\n",
              "    }\n",
              "\n",
              "    .dataframe tbody tr th {\n",
              "        vertical-align: top;\n",
              "    }\n",
              "\n",
              "    .dataframe thead th {\n",
              "        text-align: right;\n",
              "    }\n",
              "</style>\n",
              "<table border=\"1\" class=\"dataframe\">\n",
              "  <thead>\n",
              "    <tr style=\"text-align: right;\">\n",
              "      <th></th>\n",
              "      <th>user_id</th>\n",
              "      <th>post_id</th>\n",
              "      <th>timestamp</th>\n",
              "    </tr>\n",
              "  </thead>\n",
              "  <tbody>\n",
              "    <tr>\n",
              "      <th>0</th>\n",
              "      <td>5df49b32cc709107827fb3c7</td>\n",
              "      <td>5ec821ddec493f4a2655889e</td>\n",
              "      <td>2020-06-01T10:46:45.131Z</td>\n",
              "    </tr>\n",
              "    <tr>\n",
              "      <th>1</th>\n",
              "      <td>5ed3748576027d35905ccaab</td>\n",
              "      <td>5ed4cbadbd514d602c1531a6</td>\n",
              "      <td>2020-06-01T09:39:20.021Z</td>\n",
              "    </tr>\n",
              "    <tr>\n",
              "      <th>2</th>\n",
              "      <td>5ed0defa76027d35905cc2de</td>\n",
              "      <td>5eac305f10426255a7aa9dd3</td>\n",
              "      <td>2020-06-01T08:12:42.682Z</td>\n",
              "    </tr>\n",
              "    <tr>\n",
              "      <th>3</th>\n",
              "      <td>5ed0defa76027d35905cc2de</td>\n",
              "      <td>5ed1ff0276027d35905cc60d</td>\n",
              "      <td>2020-06-01T08:10:23.880Z</td>\n",
              "    </tr>\n",
              "    <tr>\n",
              "      <th>4</th>\n",
              "      <td>5ed0defa76027d35905cc2de</td>\n",
              "      <td>5ed3820f76027d35905ccac8</td>\n",
              "      <td>2020-06-01T08:08:54.124Z</td>\n",
              "    </tr>\n",
              "  </tbody>\n",
              "</table>\n",
              "</div>"
            ],
            "text/plain": [
              "                    user_id                   post_id                 timestamp\n",
              "0  5df49b32cc709107827fb3c7  5ec821ddec493f4a2655889e  2020-06-01T10:46:45.131Z\n",
              "1  5ed3748576027d35905ccaab  5ed4cbadbd514d602c1531a6  2020-06-01T09:39:20.021Z\n",
              "2  5ed0defa76027d35905cc2de  5eac305f10426255a7aa9dd3  2020-06-01T08:12:42.682Z\n",
              "3  5ed0defa76027d35905cc2de  5ed1ff0276027d35905cc60d  2020-06-01T08:10:23.880Z\n",
              "4  5ed0defa76027d35905cc2de  5ed3820f76027d35905ccac8  2020-06-01T08:08:54.124Z"
            ]
          },
          "metadata": {
            "tags": []
          },
          "execution_count": 9
        }
      ]
    },
    {
      "cell_type": "code",
      "metadata": {
        "id": "ThCkZuLBKN1e",
        "colab_type": "code",
        "colab": {
          "base_uri": "https://localhost:8080/",
          "height": 510
        },
        "outputId": "f1da10d5-21cd-4238-c52d-302e7f6d48b2"
      },
      "source": [
        "print(\"\\n Posts Data :\")\n",
        "print(\"shape : \", posts.shape)\n",
        "print(posts.head())\n",
        "\n",
        "print(\"\\n Users Data :\")\n",
        "print(\"shape : \", users.shape)\n",
        "print(users.head())\n",
        "\n",
        "print(\"\\n Views Data :\")\n",
        "print(\"shape : \", views.shape)\n",
        "print(views.head())"
      ],
      "execution_count": 10,
      "outputs": [
        {
          "output_type": "stream",
          "text": [
            "\n",
            " Posts Data :\n",
            "shape :  (493, 4)\n",
            "                    post_id  ... post_type\n",
            "0  5d62abaa65218653a132c956  ...      blog\n",
            "1  5d6d39567fa40e1417a4931c  ...      blog\n",
            "2  5d7d23315720533e15c3b1ee  ...      blog\n",
            "3  5d7d405e5720533e15c3b1f3  ...   artwork\n",
            "4  5d80dfbc6c53455f896e600e  ...      blog\n",
            "\n",
            "[5 rows x 4 columns]\n",
            "\n",
            " Users Data :\n",
            "shape :  (118, 4)\n",
            "                    user_id                  name gender      academics\n",
            "0  5d60098a653a331687083238  Nivesh Singh Chauhan   male  undergraduate\n",
            "1  5d610ae1653a331687083239         Gaurav Sharma   male       graduate\n",
            "2  5d618359fc5fcf3bdd9a0910         Akshay Mishra   male  undergraduate\n",
            "3  5d6d2bb87fa40e1417a49315        Saksham Mathur   male  undergraduate\n",
            "4  5d7c994d5720533e15c3b1e9         Varun Chowhan   male  undergraduate\n",
            "\n",
            " Views Data :\n",
            "shape :  (1449, 3)\n",
            "                    user_id                   post_id                 timestamp\n",
            "0  5df49b32cc709107827fb3c7  5ec821ddec493f4a2655889e  2020-06-01T10:46:45.131Z\n",
            "1  5ed3748576027d35905ccaab  5ed4cbadbd514d602c1531a6  2020-06-01T09:39:20.021Z\n",
            "2  5ed0defa76027d35905cc2de  5eac305f10426255a7aa9dd3  2020-06-01T08:12:42.682Z\n",
            "3  5ed0defa76027d35905cc2de  5ed1ff0276027d35905cc60d  2020-06-01T08:10:23.880Z\n",
            "4  5ed0defa76027d35905cc2de  5ed3820f76027d35905ccac8  2020-06-01T08:08:54.124Z\n"
          ],
          "name": "stdout"
        }
      ]
    },
    {
      "cell_type": "code",
      "metadata": {
        "id": "Q2eTnl1SKN1m",
        "colab_type": "code",
        "colab": {}
      },
      "source": [
        "# we found that we have 493 posts from 118 users and had 1449 views"
      ],
      "execution_count": 0,
      "outputs": []
    },
    {
      "cell_type": "code",
      "metadata": {
        "id": "WFWweqzlKN1t",
        "colab_type": "code",
        "colab": {}
      },
      "source": [
        "combine=pd.merge(left=views,right=posts,how='inner',on='post_id')\n",
        "combine=pd.merge(left=combine,right=users,how='inner',on='user_id')"
      ],
      "execution_count": 0,
      "outputs": []
    },
    {
      "cell_type": "code",
      "metadata": {
        "id": "XsvqPJjfKN1z",
        "colab_type": "code",
        "colab": {
          "base_uri": "https://localhost:8080/",
          "height": 566
        },
        "outputId": "a06db35c-f8a2-48f7-845f-babb6421245d"
      },
      "source": [
        "combine.head(10)"
      ],
      "execution_count": 34,
      "outputs": [
        {
          "output_type": "execute_result",
          "data": {
            "text/html": [
              "<div>\n",
              "<style scoped>\n",
              "    .dataframe tbody tr th:only-of-type {\n",
              "        vertical-align: middle;\n",
              "    }\n",
              "\n",
              "    .dataframe tbody tr th {\n",
              "        vertical-align: top;\n",
              "    }\n",
              "\n",
              "    .dataframe thead th {\n",
              "        text-align: right;\n",
              "    }\n",
              "</style>\n",
              "<table border=\"1\" class=\"dataframe\">\n",
              "  <thead>\n",
              "    <tr style=\"text-align: right;\">\n",
              "      <th></th>\n",
              "      <th>user_id</th>\n",
              "      <th>post_id</th>\n",
              "      <th>timestamp</th>\n",
              "      <th>title</th>\n",
              "      <th>category</th>\n",
              "      <th>post_type</th>\n",
              "      <th>name</th>\n",
              "      <th>gender</th>\n",
              "      <th>academics</th>\n",
              "      <th>post_type_strength</th>\n",
              "    </tr>\n",
              "  </thead>\n",
              "  <tbody>\n",
              "    <tr>\n",
              "      <th>0</th>\n",
              "      <td>5df49b32cc709107827fb3c7</td>\n",
              "      <td>5ec821ddec493f4a2655889e</td>\n",
              "      <td>2020-06-01T10:46:45.131Z</td>\n",
              "      <td>Save Earth.</td>\n",
              "      <td>Visual Arts|Graphic Design|Artistic design|Gra...</td>\n",
              "      <td>artwork</td>\n",
              "      <td>Niriksha Sharma</td>\n",
              "      <td>female</td>\n",
              "      <td>undergraduate</td>\n",
              "      <td>1.0</td>\n",
              "    </tr>\n",
              "    <tr>\n",
              "      <th>1</th>\n",
              "      <td>5df49b32cc709107827fb3c7</td>\n",
              "      <td>5ec1fd0974f7660d73aa0fd5</td>\n",
              "      <td>2020-05-18T08:35:28.241Z</td>\n",
              "      <td>Daaku</td>\n",
              "      <td>Drawings</td>\n",
              "      <td>artwork</td>\n",
              "      <td>Niriksha Sharma</td>\n",
              "      <td>female</td>\n",
              "      <td>undergraduate</td>\n",
              "      <td>1.0</td>\n",
              "    </tr>\n",
              "    <tr>\n",
              "      <th>2</th>\n",
              "      <td>5df49b32cc709107827fb3c7</td>\n",
              "      <td>5ecd5d417023451e662235c5</td>\n",
              "      <td>2020-05-26T20:11:07.153Z</td>\n",
              "      <td>Machine Learning”&amp;“Operations\" (MlOps)</td>\n",
              "      <td>Computer Technology|Machine Learning</td>\n",
              "      <td>blog</td>\n",
              "      <td>Niriksha Sharma</td>\n",
              "      <td>female</td>\n",
              "      <td>undergraduate</td>\n",
              "      <td>2.0</td>\n",
              "    </tr>\n",
              "    <tr>\n",
              "      <th>3</th>\n",
              "      <td>5df49b32cc709107827fb3c7</td>\n",
              "      <td>5ecb72c0eaff6b0c3a58a48e</td>\n",
              "      <td>2020-05-25T07:27:20.699Z</td>\n",
              "      <td>EID MUBARAK</td>\n",
              "      <td>Photography|Architecture|Visual Arts|Graphic D...</td>\n",
              "      <td>artwork</td>\n",
              "      <td>Niriksha Sharma</td>\n",
              "      <td>female</td>\n",
              "      <td>undergraduate</td>\n",
              "      <td>1.0</td>\n",
              "    </tr>\n",
              "    <tr>\n",
              "      <th>4</th>\n",
              "      <td>5df49b32cc709107827fb3c7</td>\n",
              "      <td>5ea5aacd10426255a7aa9b71</td>\n",
              "      <td>2020-05-13T09:20:46.457Z</td>\n",
              "      <td>Photography Composition</td>\n",
              "      <td>NaN</td>\n",
              "      <td>project</td>\n",
              "      <td>Niriksha Sharma</td>\n",
              "      <td>female</td>\n",
              "      <td>undergraduate</td>\n",
              "      <td>4.0</td>\n",
              "    </tr>\n",
              "    <tr>\n",
              "      <th>5</th>\n",
              "      <td>5df49b32cc709107827fb3c7</td>\n",
              "      <td>5ea5aacd10426255a7aa9b71</td>\n",
              "      <td>2020-04-26T15:38:02.459Z</td>\n",
              "      <td>Photography Composition</td>\n",
              "      <td>NaN</td>\n",
              "      <td>project</td>\n",
              "      <td>Niriksha Sharma</td>\n",
              "      <td>female</td>\n",
              "      <td>undergraduate</td>\n",
              "      <td>4.0</td>\n",
              "    </tr>\n",
              "    <tr>\n",
              "      <th>6</th>\n",
              "      <td>5df49b32cc709107827fb3c7</td>\n",
              "      <td>5ec3c09274f7660d73aa1229</td>\n",
              "      <td>2020-05-25T07:26:57.220Z</td>\n",
              "      <td>Dakrai Artwork.</td>\n",
              "      <td>Pen and ink</td>\n",
              "      <td>artwork</td>\n",
              "      <td>Niriksha Sharma</td>\n",
              "      <td>female</td>\n",
              "      <td>undergraduate</td>\n",
              "      <td>1.0</td>\n",
              "    </tr>\n",
              "    <tr>\n",
              "      <th>7</th>\n",
              "      <td>5df49b32cc709107827fb3c7</td>\n",
              "      <td>5ec573a3f2781131cc7e51b8</td>\n",
              "      <td>2020-05-25T07:26:42.046Z</td>\n",
              "      <td>My First Animated Post.</td>\n",
              "      <td>Art; Science</td>\n",
              "      <td>skill</td>\n",
              "      <td>Niriksha Sharma</td>\n",
              "      <td>female</td>\n",
              "      <td>undergraduate</td>\n",
              "      <td>3.0</td>\n",
              "    </tr>\n",
              "    <tr>\n",
              "      <th>8</th>\n",
              "      <td>5df49b32cc709107827fb3c7</td>\n",
              "      <td>5ecb7155eaff6b0c3a58a486</td>\n",
              "      <td>2020-05-25T07:26:16.658Z</td>\n",
              "      <td>Eid Mubarak</td>\n",
              "      <td>Photography|Architecture|Visual Arts|Graphic D...</td>\n",
              "      <td>artwork</td>\n",
              "      <td>Niriksha Sharma</td>\n",
              "      <td>female</td>\n",
              "      <td>undergraduate</td>\n",
              "      <td>1.0</td>\n",
              "    </tr>\n",
              "    <tr>\n",
              "      <th>9</th>\n",
              "      <td>5df49b32cc709107827fb3c7</td>\n",
              "      <td>5ecb6edeeaff6b0c3a58a479</td>\n",
              "      <td>2020-05-25T07:08:29.178Z</td>\n",
              "      <td>Happy Eid-ul-Fitr 2020</td>\n",
              "      <td>Photography|Architecture</td>\n",
              "      <td>artwork</td>\n",
              "      <td>Niriksha Sharma</td>\n",
              "      <td>female</td>\n",
              "      <td>undergraduate</td>\n",
              "      <td>1.0</td>\n",
              "    </tr>\n",
              "  </tbody>\n",
              "</table>\n",
              "</div>"
            ],
            "text/plain": [
              "                    user_id  ... post_type_strength\n",
              "0  5df49b32cc709107827fb3c7  ...                1.0\n",
              "1  5df49b32cc709107827fb3c7  ...                1.0\n",
              "2  5df49b32cc709107827fb3c7  ...                2.0\n",
              "3  5df49b32cc709107827fb3c7  ...                1.0\n",
              "4  5df49b32cc709107827fb3c7  ...                4.0\n",
              "5  5df49b32cc709107827fb3c7  ...                4.0\n",
              "6  5df49b32cc709107827fb3c7  ...                1.0\n",
              "7  5df49b32cc709107827fb3c7  ...                3.0\n",
              "8  5df49b32cc709107827fb3c7  ...                1.0\n",
              "9  5df49b32cc709107827fb3c7  ...                1.0\n",
              "\n",
              "[10 rows x 10 columns]"
            ]
          },
          "metadata": {
            "tags": []
          },
          "execution_count": 34
        }
      ]
    },
    {
      "cell_type": "code",
      "metadata": {
        "id": "-B1MNj4cKN15",
        "colab_type": "code",
        "colab": {
          "base_uri": "https://localhost:8080/",
          "height": 297
        },
        "outputId": "1965e775-118e-4ea3-eece-1598b096aeb7"
      },
      "source": [
        "sns.countplot(combine.post_type)"
      ],
      "execution_count": 14,
      "outputs": [
        {
          "output_type": "execute_result",
          "data": {
            "text/plain": [
              "<matplotlib.axes._subplots.AxesSubplot at 0x7efe2962b4e0>"
            ]
          },
          "metadata": {
            "tags": []
          },
          "execution_count": 14
        },
        {
          "output_type": "display_data",
          "data": {
            "image/png": "[encoded data removed]",
            "text/plain": [
              "<Figure size 432x288 with 1 Axes>"
            ]
          },
          "metadata": {
            "tags": [],
            "needs_background": "light"
          }
        }
      ]
    },
    {
      "cell_type": "code",
      "metadata": {
        "id": "C-38NUkqKN2A",
        "colab_type": "code",
        "colab": {
          "base_uri": "https://localhost:8080/",
          "height": 296
        },
        "outputId": "2c889c0b-674b-4e8a-b66e-8403b66c15ae"
      },
      "source": [
        "sns.countplot(combine.academics)"
      ],
      "execution_count": 15,
      "outputs": [
        {
          "output_type": "execute_result",
          "data": {
            "text/plain": [
              "<matplotlib.axes._subplots.AxesSubplot at 0x7efe2962bac8>"
            ]
          },
          "metadata": {
            "tags": []
          },
          "execution_count": 15
        },
        {
          "output_type": "display_data",
          "data": {
            "image/png": "[encoded data removed]",
            "text/plain": [
              "<Figure size 432x288 with 1 Axes>"
            ]
          },
          "metadata": {
            "tags": [],
            "needs_background": "light"
          }
        }
      ]
    },
    {
      "cell_type": "code",
      "metadata": {
        "id": "-RsEkd6KKN2H",
        "colab_type": "code",
        "colab": {
          "base_uri": "https://localhost:8080/",
          "height": 102
        },
        "outputId": "ccbd8b6e-3e60-4f0a-dbeb-24fe8948623d"
      },
      "source": [
        "combine.post_type.value_counts()"
      ],
      "execution_count": 16,
      "outputs": [
        {
          "output_type": "execute_result",
          "data": {
            "text/plain": [
              "artwork    752\n",
              "blog       472\n",
              "skill      136\n",
              "project     87\n",
              "Name: post_type, dtype: int64"
            ]
          },
          "metadata": {
            "tags": []
          },
          "execution_count": 16
        }
      ]
    },
    {
      "cell_type": "code",
      "metadata": {
        "id": "jvrXOFovKN2N",
        "colab_type": "code",
        "colab": {}
      },
      "source": [
        "post_type_strength={'artwork':1.0,\n",
        "'blog':2.0,\n",
        "'skill':3.0,\n",
        "'project':4.0}"
      ],
      "execution_count": 0,
      "outputs": []
    },
    {
      "cell_type": "code",
      "metadata": {
        "id": "PvWFMXIYKN2V",
        "colab_type": "code",
        "colab": {}
      },
      "source": [
        "combine['post_type_strength']=combine['post_type'].apply(lambda x : post_type_strength[x])"
      ],
      "execution_count": 0,
      "outputs": []
    },
    {
      "cell_type": "code",
      "metadata": {
        "id": "qpknyn7wKN2b",
        "colab_type": "code",
        "colab": {
          "base_uri": "https://localhost:8080/",
          "height": 326
        },
        "outputId": "5609b099-a6a8-43fd-d413-35d2e816b0da"
      },
      "source": [
        "combine.head()"
      ],
      "execution_count": 19,
      "outputs": [
        {
          "output_type": "execute_result",
          "data": {
            "text/html": [
              "<div>\n",
              "<style scoped>\n",
              "    .dataframe tbody tr th:only-of-type {\n",
              "        vertical-align: middle;\n",
              "    }\n",
              "\n",
              "    .dataframe tbody tr th {\n",
              "        vertical-align: top;\n",
              "    }\n",
              "\n",
              "    .dataframe thead th {\n",
              "        text-align: right;\n",
              "    }\n",
              "</style>\n",
              "<table border=\"1\" class=\"dataframe\">\n",
              "  <thead>\n",
              "    <tr style=\"text-align: right;\">\n",
              "      <th></th>\n",
              "      <th>user_id</th>\n",
              "      <th>post_id</th>\n",
              "      <th>timestamp</th>\n",
              "      <th>title</th>\n",
              "      <th>category</th>\n",
              "      <th>post_type</th>\n",
              "      <th>name</th>\n",
              "      <th>gender</th>\n",
              "      <th>academics</th>\n",
              "      <th>post_type_strength</th>\n",
              "    </tr>\n",
              "  </thead>\n",
              "  <tbody>\n",
              "    <tr>\n",
              "      <th>0</th>\n",
              "      <td>5df49b32cc709107827fb3c7</td>\n",
              "      <td>5ec821ddec493f4a2655889e</td>\n",
              "      <td>2020-06-01T10:46:45.131Z</td>\n",
              "      <td>Save Earth.</td>\n",
              "      <td>Visual Arts|Graphic Design|Artistic design|Gra...</td>\n",
              "      <td>artwork</td>\n",
              "      <td>Niriksha Sharma</td>\n",
              "      <td>female</td>\n",
              "      <td>undergraduate</td>\n",
              "      <td>1.0</td>\n",
              "    </tr>\n",
              "    <tr>\n",
              "      <th>1</th>\n",
              "      <td>5df49b32cc709107827fb3c7</td>\n",
              "      <td>5ec1fd0974f7660d73aa0fd5</td>\n",
              "      <td>2020-05-18T08:35:28.241Z</td>\n",
              "      <td>Daaku</td>\n",
              "      <td>Drawings</td>\n",
              "      <td>artwork</td>\n",
              "      <td>Niriksha Sharma</td>\n",
              "      <td>female</td>\n",
              "      <td>undergraduate</td>\n",
              "      <td>1.0</td>\n",
              "    </tr>\n",
              "    <tr>\n",
              "      <th>2</th>\n",
              "      <td>5df49b32cc709107827fb3c7</td>\n",
              "      <td>5ecd5d417023451e662235c5</td>\n",
              "      <td>2020-05-26T20:11:07.153Z</td>\n",
              "      <td>Machine Learning”&amp;“Operations\" (MlOps)</td>\n",
              "      <td>Computer Technology|Machine Learning</td>\n",
              "      <td>blog</td>\n",
              "      <td>Niriksha Sharma</td>\n",
              "      <td>female</td>\n",
              "      <td>undergraduate</td>\n",
              "      <td>2.0</td>\n",
              "    </tr>\n",
              "    <tr>\n",
              "      <th>3</th>\n",
              "      <td>5df49b32cc709107827fb3c7</td>\n",
              "      <td>5ecb72c0eaff6b0c3a58a48e</td>\n",
              "      <td>2020-05-25T07:27:20.699Z</td>\n",
              "      <td>EID MUBARAK</td>\n",
              "      <td>Photography|Architecture|Visual Arts|Graphic D...</td>\n",
              "      <td>artwork</td>\n",
              "      <td>Niriksha Sharma</td>\n",
              "      <td>female</td>\n",
              "      <td>undergraduate</td>\n",
              "      <td>1.0</td>\n",
              "    </tr>\n",
              "    <tr>\n",
              "      <th>4</th>\n",
              "      <td>5df49b32cc709107827fb3c7</td>\n",
              "      <td>5ea5aacd10426255a7aa9b71</td>\n",
              "      <td>2020-05-13T09:20:46.457Z</td>\n",
              "      <td>Photography Composition</td>\n",
              "      <td>NaN</td>\n",
              "      <td>project</td>\n",
              "      <td>Niriksha Sharma</td>\n",
              "      <td>female</td>\n",
              "      <td>undergraduate</td>\n",
              "      <td>4.0</td>\n",
              "    </tr>\n",
              "  </tbody>\n",
              "</table>\n",
              "</div>"
            ],
            "text/plain": [
              "                    user_id  ... post_type_strength\n",
              "0  5df49b32cc709107827fb3c7  ...                1.0\n",
              "1  5df49b32cc709107827fb3c7  ...                1.0\n",
              "2  5df49b32cc709107827fb3c7  ...                2.0\n",
              "3  5df49b32cc709107827fb3c7  ...                1.0\n",
              "4  5df49b32cc709107827fb3c7  ...                4.0\n",
              "\n",
              "[5 rows x 10 columns]"
            ]
          },
          "metadata": {
            "tags": []
          },
          "execution_count": 19
        }
      ]
    },
    {
      "cell_type": "code",
      "metadata": {
        "id": "TcdkXS2kKN2g",
        "colab_type": "code",
        "colab": {}
      },
      "source": [
        "# We get the final result of grouped post_type_Strength"
      ],
      "execution_count": 0,
      "outputs": []
    },
    {
      "cell_type": "code",
      "metadata": {
        "id": "Xmqt2jPeKN2m",
        "colab_type": "code",
        "colab": {
          "base_uri": "https://localhost:8080/",
          "height": 376
        },
        "outputId": "93567a6f-5299-49a3-ef8f-3549658db803"
      },
      "source": [
        "combine.drop_duplicates()\n",
        "group_combine=combine.groupby(['user_id','post_id','title']).sum().reset_index()\n",
        "group_combine.sample(10)"
      ],
      "execution_count": 21,
      "outputs": [
        {
          "output_type": "execute_result",
          "data": {
            "text/html": [
              "<div>\n",
              "<style scoped>\n",
              "    .dataframe tbody tr th:only-of-type {\n",
              "        vertical-align: middle;\n",
              "    }\n",
              "\n",
              "    .dataframe tbody tr th {\n",
              "        vertical-align: top;\n",
              "    }\n",
              "\n",
              "    .dataframe thead th {\n",
              "        text-align: right;\n",
              "    }\n",
              "</style>\n",
              "<table border=\"1\" class=\"dataframe\">\n",
              "  <thead>\n",
              "    <tr style=\"text-align: right;\">\n",
              "      <th></th>\n",
              "      <th>user_id</th>\n",
              "      <th>post_id</th>\n",
              "      <th>title</th>\n",
              "      <th>post_type_strength</th>\n",
              "    </tr>\n",
              "  </thead>\n",
              "  <tbody>\n",
              "    <tr>\n",
              "      <th>834</th>\n",
              "      <td>5e3563348d344822fed4d13a</td>\n",
              "      <td>5ec7a699ec493f4a2655883a</td>\n",
              "      <td>HUMAN ILLUSTRATION (With Galaxy Background)</td>\n",
              "      <td>1.0</td>\n",
              "    </tr>\n",
              "    <tr>\n",
              "      <th>1343</th>\n",
              "      <td>5ed0d9bc76027d35905cc2c2</td>\n",
              "      <td>5ed09ad076027d35905cc15f</td>\n",
              "      <td>Understanding Cloud Computing(AWS)</td>\n",
              "      <td>2.0</td>\n",
              "    </tr>\n",
              "    <tr>\n",
              "      <th>514</th>\n",
              "      <td>5deeef6142a8854bf6eabab9</td>\n",
              "      <td>5e943363a3258347b42f2813</td>\n",
              "      <td>Sunset</td>\n",
              "      <td>1.0</td>\n",
              "    </tr>\n",
              "    <tr>\n",
              "      <th>698</th>\n",
              "      <td>5df20f1fee4bb5252b4f5351</td>\n",
              "      <td>5ecc1d4eeaff6b0c3a58a565</td>\n",
              "      <td>Faith in yourself</td>\n",
              "      <td>1.0</td>\n",
              "    </tr>\n",
              "    <tr>\n",
              "      <th>691</th>\n",
              "      <td>5df20f1fee4bb5252b4f5351</td>\n",
              "      <td>5ec2f7c074f7660d73aa116e</td>\n",
              "      <td>Making of Daaku Art</td>\n",
              "      <td>3.0</td>\n",
              "    </tr>\n",
              "    <tr>\n",
              "      <th>1116</th>\n",
              "      <td>5e942f7ba3258347b42f280e</td>\n",
              "      <td>5e9435f7a3258347b42f281a</td>\n",
              "      <td>Peaceful</td>\n",
              "      <td>1.0</td>\n",
              "    </tr>\n",
              "    <tr>\n",
              "      <th>753</th>\n",
              "      <td>5df49b32cc709107827fb3c7</td>\n",
              "      <td>5ec3c09274f7660d73aa1229</td>\n",
              "      <td>Dakrai Artwork.</td>\n",
              "      <td>1.0</td>\n",
              "    </tr>\n",
              "    <tr>\n",
              "      <th>1264</th>\n",
              "      <td>5ec3ba5374f7660d73aa1201</td>\n",
              "      <td>5ec7a8bdec493f4a26558846</td>\n",
              "      <td>HUMAN ILLUSTRATION</td>\n",
              "      <td>1.0</td>\n",
              "    </tr>\n",
              "    <tr>\n",
              "      <th>634</th>\n",
              "      <td>5df20f1fee4bb5252b4f5351</td>\n",
              "      <td>5e2d516fc85ab714a7da66dd</td>\n",
              "      <td>'The Virtual ME'</td>\n",
              "      <td>1.0</td>\n",
              "    </tr>\n",
              "    <tr>\n",
              "      <th>1330</th>\n",
              "      <td>5ecf6e6576027d35905cbeec</td>\n",
              "      <td>5ed0007a76027d35905cc0ea</td>\n",
              "      <td>A solar-powered microbrewery has design-led en...</td>\n",
              "      <td>1.0</td>\n",
              "    </tr>\n",
              "  </tbody>\n",
              "</table>\n",
              "</div>"
            ],
            "text/plain": [
              "                       user_id  ... post_type_strength\n",
              "834   5e3563348d344822fed4d13a  ...                1.0\n",
              "1343  5ed0d9bc76027d35905cc2c2  ...                2.0\n",
              "514   5deeef6142a8854bf6eabab9  ...                1.0\n",
              "698   5df20f1fee4bb5252b4f5351  ...                1.0\n",
              "691   5df20f1fee4bb5252b4f5351  ...                3.0\n",
              "1116  5e942f7ba3258347b42f280e  ...                1.0\n",
              "753   5df49b32cc709107827fb3c7  ...                1.0\n",
              "1264  5ec3ba5374f7660d73aa1201  ...                1.0\n",
              "634   5df20f1fee4bb5252b4f5351  ...                1.0\n",
              "1330  5ecf6e6576027d35905cbeec  ...                1.0\n",
              "\n",
              "[10 rows x 4 columns]"
            ]
          },
          "metadata": {
            "tags": []
          },
          "execution_count": 21
        }
      ]
    },
    {
      "cell_type": "code",
      "metadata": {
        "id": "3-k4L9QsKN2s",
        "colab_type": "code",
        "colab": {}
      },
      "source": [
        "group_combine.user_id=group_combine.user_id.astype('category')\n",
        "group_combine.post_id=group_combine.post_id.astype('category')\n",
        "group_combine.title=group_combine.title.astype('category')"
      ],
      "execution_count": 0,
      "outputs": []
    },
    {
      "cell_type": "code",
      "metadata": {
        "id": "ICVaYi07KN2y",
        "colab_type": "code",
        "colab": {}
      },
      "source": [
        "group_combine.user_id=group_combine.user_id.cat.codes\n",
        "group_combine.post_id=group_combine.post_id.cat.codes"
      ],
      "execution_count": 0,
      "outputs": []
    },
    {
      "cell_type": "code",
      "metadata": {
        "id": "PzuWDevCKN24",
        "colab_type": "code",
        "colab": {}
      },
      "source": [
        "sparse_post_user = sparse.csr_matrix((group_combine['post_type_strength'].astype(float), (group_combine['user_id'], group_combine['post_id'])))\n",
        "sparse_user_post = sparse.csr_matrix((group_combine['post_type_strength'].astype(float), (group_combine['post_id'], group_combine['user_id'])))"
      ],
      "execution_count": 0,
      "outputs": []
    },
    {
      "cell_type": "code",
      "metadata": {
        "id": "JXtH_ZZ8KN29",
        "colab_type": "code",
        "colab": {
          "base_uri": "https://localhost:8080/",
          "height": 71
        },
        "outputId": "1218a719-355e-45f6-fe5b-a79db1c487ef"
      },
      "source": [
        "model = implicit.als.AlternatingLeastSquares(factors=20, regularization=0.1, iterations=50)"
      ],
      "execution_count": 25,
      "outputs": [
        {
          "output_type": "stream",
          "text": [
            "GPU training requires factor size to be a multiple of 32. Increasing factors from 20 to 32.\n",
            "WARNING:root:OpenBLAS detected. Its highly recommend to set the environment variable 'export OPENBLAS_NUM_THREADS=1' to disable its internal multithreading\n"
          ],
          "name": "stderr"
        }
      ]
    },
    {
      "cell_type": "code",
      "metadata": {
        "id": "qlSNlI_1KN3D",
        "colab_type": "code",
        "colab": {
          "base_uri": "https://localhost:8080/",
          "height": 66,
          "referenced_widgets": [
            "e484e295c15a4727a4e268da3c0dd9ec",
            "bfaaae61391947f6b286542352742631",
            "94bacfa2791c4ee5b6f5c3af77fa89e6",
            "61925e93d2914f5fa8c323c07b186579",
            "7615be809bed4d66b31a325c359727b1",
            "8251213a73eb4d1abd8e3829b7de52f1",
            "19f72210e490468fbf5a69ce5ae78d46",
            "7616918e08064ed8be5e3f108c8ab370"
          ]
        },
        "outputId": "2286b4f1-9ae3-4160-a7c6-044464712bb2"
      },
      "source": [
        "alpha = 15\n",
        "data = (sparse_post_user * alpha).astype('double')\n",
        "model.fit(data)"
      ],
      "execution_count": 26,
      "outputs": [
        {
          "output_type": "display_data",
          "data": {
            "application/vnd.jupyter.widget-view+json": {
              "model_id": "e484e295c15a4727a4e268da3c0dd9ec",
              "version_minor": 0,
              "version_major": 2
            },
            "text/plain": [
              "HBox(children=(FloatProgress(value=0.0, max=50.0), HTML(value='')))"
            ]
          },
          "metadata": {
            "tags": []
          }
        },
        {
          "output_type": "stream",
          "text": [
            "\n"
          ],
          "name": "stdout"
        }
      ]
    },
    {
      "cell_type": "code",
      "metadata": {
        "id": "j_lkA8qKKN3J",
        "colab_type": "code",
        "colab": {
          "base_uri": "https://localhost:8080/",
          "height": 187
        },
        "outputId": "b04f363c-ad77-49c1-e530-1a8976310f94"
      },
      "source": [
        "post_id = 1\n",
        "n_similar = 10\n",
        "\n",
        "user_vecs = model.user_factors\n",
        "post_vecs = model.item_factors\n",
        "\n",
        "post_norms = np.sqrt((post_vecs * post_vecs).sum(axis=1))\n",
        "\n",
        "scores = post_vecs.dot(post_vecs[post_id]) / post_norms\n",
        "top_idx = np.argpartition(scores, -n_similar)[-n_similar:]\n",
        "similar = sorted(zip(top_idx, scores[top_idx] / post_norms[post_id]), key=lambda x: -x[1])\n",
        "\n",
        "for post in similar:\n",
        "    idx, score = post\n",
        "    print(group_combine.title.loc[group_combine.post_id == idx].iloc[0])"
      ],
      "execution_count": 27,
      "outputs": [
        {
          "output_type": "stream",
          "text": [
            "Ml and AI\n",
            "The Periodic Table\n",
            "HOW INTERNAL AUDIT WORKS\n",
            "Business skills\n",
            "'The Virtual ME'\n",
            "Trident\n",
            "Navigation system using BFS DFS algorithms\n",
            "PHP\n",
            "Promotional video.\n",
            "SEO (Search Engine Optimization)\n"
          ],
          "name": "stdout"
        }
      ]
    },
    {
      "cell_type": "code",
      "metadata": {
        "id": "jo-oeHaAKN3Q",
        "colab_type": "code",
        "colab": {
          "base_uri": "https://localhost:8080/",
          "height": 204
        },
        "outputId": "4fa45298-689b-4bd7-a4eb-69e3e33e5fa4"
      },
      "source": [
        "def recommend(user_id, sparse_user_post, user_vecs, post_vecs, num_posts=10):\n",
        "    # Get the interactions scores from the sparse person content matrix\n",
        "    user_interactions = sparse_user_post[user_id,:].toarray()\n",
        "    # Add 1 to everything, so that articles with no interaction yet become equal to 1\n",
        "    user_interactions = user_interactions.reshape(-1) + 1\n",
        "    # Make articles already interacted zero\n",
        "    user_interactions[user_interactions > 1] = 0\n",
        "    # Get dot product of person vector and all content vectors\n",
        "    rec_vector = user_vecs[user_id,:].dot(post_vecs.T).toarray()\n",
        "    \n",
        "    # Scale this recommendation vector between 0 and 1\n",
        "    min_max = MinMaxScaler()\n",
        "    rec_vector_scaled = min_max.fit_transform(rec_vector.reshape(-1,1))[:,0]\n",
        "    # Content already interacted have their recommendation multiplied by zero\n",
        "    recommend_vector = user_interactions * rec_vector_scaled\n",
        "    # Sort the indices of the content into order of best recommendations\n",
        "    post_idx = np.argsort(recommend_vector)[::-1][:num_posts]\n",
        "    \n",
        "    # Start empty list to store titles and scores\n",
        "    titles = []\n",
        "    scores = []\n",
        "\n",
        "    for idx in post_idx:\n",
        "        # Append titles and scores to the list\n",
        "        titles.append(group_combine.title.loc[group_combine.post_id == idx].iloc[0])\n",
        "        scores.append(recommend_vector[idx])\n",
        "\n",
        "    recommendations = pd.DataFrame({'title': titles, 'score': scores})\n",
        "\n",
        "    return recommendations\n",
        "    \n",
        "# Get the trained person and content vectors. We convert them to csr matrices\n",
        "user_vecs = sparse.csr_matrix(model.user_factors)\n",
        "post_vecs = sparse.csr_matrix(model.item_factors)\n",
        "\n",
        "# Create recommendations for person with id 50\n",
        "user_id = 50\n",
        "\n",
        "recommendations = recommend(user_id, sparse_user_post, user_vecs, post_vecs)\n",
        "\n",
        "print(recommendations)"
      ],
      "execution_count": 28,
      "outputs": [
        {
          "output_type": "stream",
          "text": [
            "                           title     score\n",
            "0    Marital Rape - Rape is Rape  0.248229\n",
            "1            Colours of pushkar.  0.229970\n",
            "2  Traditional and Modern Sports  0.174397\n",
            "3             Sociology in India  0.129288\n",
            "4                    Calligraphy  0.125932\n",
            "5                    Best friend  0.121669\n",
            "6              Computer Graphics  0.111155\n",
            "7                         Abacus  0.098323\n",
            "8                         E-Cash  0.081331\n",
            "9               Forms of Cartel.  0.073699\n"
          ],
          "name": "stdout"
        }
      ]
    },
    {
      "cell_type": "markdown",
      "metadata": {
        "id": "QHQEeV4xKN3W",
        "colab_type": "text"
      },
      "source": [
        "Here we have top 10 recommendations for user_id = 50. Let’s get top 10 articles this person has interacted with."
      ]
    },
    {
      "cell_type": "code",
      "metadata": {
        "id": "tb-KMNiUKN3X",
        "colab_type": "code",
        "colab": {
          "base_uri": "https://localhost:8080/",
          "height": 204
        },
        "outputId": "a4a73963-17fc-4735-c275-743ded175bbf"
      },
      "source": [
        "group_combine.loc[group_combine['user_id']==50].sort_values(by=['post_type_strength'], ascending=False)[['title', 'user_id', 'post_type_strength']].head(10)"
      ],
      "execution_count": 33,
      "outputs": [
        {
          "output_type": "execute_result",
          "data": {
            "text/html": [
              "<div>\n",
              "<style scoped>\n",
              "    .dataframe tbody tr th:only-of-type {\n",
              "        vertical-align: middle;\n",
              "    }\n",
              "\n",
              "    .dataframe tbody tr th {\n",
              "        vertical-align: top;\n",
              "    }\n",
              "\n",
              "    .dataframe thead th {\n",
              "        text-align: right;\n",
              "    }\n",
              "</style>\n",
              "<table border=\"1\" class=\"dataframe\">\n",
              "  <thead>\n",
              "    <tr style=\"text-align: right;\">\n",
              "      <th></th>\n",
              "      <th>title</th>\n",
              "      <th>user_id</th>\n",
              "      <th>post_type_strength</th>\n",
              "    </tr>\n",
              "  </thead>\n",
              "  <tbody>\n",
              "    <tr>\n",
              "      <th>1085</th>\n",
              "      <td>Are We Alone In The Universe?</td>\n",
              "      <td>50</td>\n",
              "      <td>2.0</td>\n",
              "    </tr>\n",
              "    <tr>\n",
              "      <th>1087</th>\n",
              "      <td>आमची मुंबाई !!!</td>\n",
              "      <td>50</td>\n",
              "      <td>2.0</td>\n",
              "    </tr>\n",
              "    <tr>\n",
              "      <th>1083</th>\n",
              "      <td>Leap of faith</td>\n",
              "      <td>50</td>\n",
              "      <td>1.0</td>\n",
              "    </tr>\n",
              "    <tr>\n",
              "      <th>1084</th>\n",
              "      <td>Night View Ha Penny Bridge in Dublin Ireland</td>\n",
              "      <td>50</td>\n",
              "      <td>1.0</td>\n",
              "    </tr>\n",
              "    <tr>\n",
              "      <th>1086</th>\n",
              "      <td>BEING CREATIVE☺☺</td>\n",
              "      <td>50</td>\n",
              "      <td>1.0</td>\n",
              "    </tr>\n",
              "  </tbody>\n",
              "</table>\n",
              "</div>"
            ],
            "text/plain": [
              "                                             title  user_id  post_type_strength\n",
              "1085                 Are We Alone In The Universe?       50                 2.0\n",
              "1087                               आमची मुंबाई !!!       50                 2.0\n",
              "1083                                 Leap of faith       50                 1.0\n",
              "1084  Night View Ha Penny Bridge in Dublin Ireland       50                 1.0\n",
              "1086                              BEING CREATIVE☺☺       50                 1.0"
            ]
          },
          "metadata": {
            "tags": []
          },
          "execution_count": 33
        }
      ]
    }
  ]
}